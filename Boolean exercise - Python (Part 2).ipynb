{
 "cells": [
  {
   "cell_type": "markdown",
   "id": "2b04dd95-2ffb-4fa1-b4b2-091647abb161",
   "metadata": {},
   "source": [
    "# 3.15.x Final Assignment"
   ]
  },
  {
   "cell_type": "markdown",
   "id": "5a968c9c-628b-42c6-b692-d88b2a1866f4",
   "metadata": {},
   "source": [
    "### Assignment Instructions"
   ]
  },
  {
   "cell_type": "markdown",
   "id": "b197f446-530c-41ee-b11f-57900dfa6fae",
   "metadata": {
    "tags": []
   },
   "source": [
    "#### Part 2   |   Advanced Difficulty Level\n",
    "\n",
    "In this second part, you will be working with a datasets containing information on indian startups' funding, including the startup's details, the funding it received, and the investors' information. \n",
    "\n",
    "In the usual `data` folder, you will find the following three datasets, including data from 2019, 2020 and 2021: \n",
    "\n",
    "- `startup_funding2019.csv`\n",
    "- `startup_funding2020.csv`\n",
    "- `startup_funding2021.csv`\n",
    "\n",
    "At [this link](https://www.kaggle.com/datasets/omkargowda/indian-startups-funding-data?select=startup_funding2019.csv) you can find the source of the original data (Kaggle) as well as more information on its composition *(note: the files in the data folder are slightly different from the originals)*."
   ]
  },
  {
   "cell_type": "code",
   "execution_count": 196,
   "id": "ade558c9-f230-4e3f-88e6-028d308cafd4",
   "metadata": {},
   "outputs": [],
   "source": [
    "import numpy as np\n",
    "import pandas as pd\n",
    "import os\n",
    "import seaborn as sns\n",
    "sns.set_theme()"
   ]
  },
  {
   "cell_type": "markdown",
   "id": "9528671c-2443-4008-9872-ef76288bab5b",
   "metadata": {},
   "source": [
    "1. Using a **for loop**, load all three .csv files in a temporary DataFrame called `df_tmp` and, at each cycle, add a new column named `Year` that includes the year of that csv file to the temporary table and append it to a final DataFrame named `fnd`. Your final `fnd` DataFrame should include the contents from all three csv files stacked one on top of the other. \n",
    "\n",
    "    What is the **shape** of the `fnd` DataFrame? "
   ]
  },
  {
   "cell_type": "code",
   "execution_count": 197,
   "id": "e24fbda5-16e0-4023-b424-0dcbb3c242c4",
   "metadata": {},
   "outputs": [
    {
     "name": "stderr",
     "output_type": "stream",
     "text": [
      "/var/folders/vb/bxntwrc90ggcyq4rsgsqbvwh0000gn/T/ipykernel_69834/1336491626.py:11: FutureWarning:\n",
      "\n",
      "The frame.append method is deprecated and will be removed from pandas in a future version. Use pandas.concat instead.\n",
      "\n",
      "/var/folders/vb/bxntwrc90ggcyq4rsgsqbvwh0000gn/T/ipykernel_69834/1336491626.py:11: FutureWarning:\n",
      "\n",
      "The frame.append method is deprecated and will be removed from pandas in a future version. Use pandas.concat instead.\n",
      "\n",
      "/var/folders/vb/bxntwrc90ggcyq4rsgsqbvwh0000gn/T/ipykernel_69834/1336491626.py:11: FutureWarning:\n",
      "\n",
      "The frame.append method is deprecated and will be removed from pandas in a future version. Use pandas.concat instead.\n",
      "\n"
     ]
    }
   ],
   "source": [
    "os.chdir('/Users/iliaromanov/Documents/Data Analytics/git/3.15.x-Final-Assignment')\n",
    "\n",
    "files = os.listdir('data') \n",
    "\n",
    "fnd = pd.DataFrame([])\n",
    "\n",
    "for i in files:\n",
    "    if len(i)==23:\n",
    "        df_tmp = pd.read_csv('data/' +i)\n",
    "        df_tmp['Year'] = i[15:19]\n",
    "        fnd = fnd.append(df_tmp)\n",
    "    else:\n",
    "        False"
   ]
  },
  {
   "cell_type": "code",
   "execution_count": 198,
   "id": "95b7ed33-a7c7-4309-bfba-d07958820fb9",
   "metadata": {},
   "outputs": [
    {
     "data": {
      "text/plain": [
       "(2343, 10)"
      ]
     },
     "execution_count": 198,
     "metadata": {},
     "output_type": "execute_result"
    }
   ],
   "source": [
    "fnd.shape"
   ]
  },
  {
   "cell_type": "markdown",
   "id": "1740ef37-e478-4d67-ac20-375b652cbcf0",
   "metadata": {},
   "source": [
    "2. If you check the columns' data types, you'll notice that the columns `Founded`, `Amount($)` and `Year` are being interpreted as strings instead of numbers. Format those three columns to numeric data types. \n",
    "\n",
    "    What is the **total** `Amount($)` of funding given in the three years available?"
   ]
  },
  {
   "cell_type": "code",
   "execution_count": 199,
   "id": "b4ab96ce-37f6-428d-bd02-1878c3efc3fa",
   "metadata": {},
   "outputs": [
    {
     "name": "stdout",
     "output_type": "stream",
     "text": [
      "<class 'pandas.core.frame.DataFrame'>\n",
      "Int64Index: 2343 entries, 0 to 1051\n",
      "Data columns (total 10 columns):\n",
      " #   Column         Non-Null Count  Dtype \n",
      "---  ------         --------------  ----- \n",
      " 0   Company/Brand  2343 non-null   object\n",
      " 1   Founded        2102 non-null   object\n",
      " 2   HeadQuarter    2228 non-null   object\n",
      " 3   Sector         2325 non-null   object\n",
      " 4   What it does   2343 non-null   object\n",
      " 5   Founders       2324 non-null   object\n",
      " 6   Investor       2243 non-null   object\n",
      " 7   Amount($)      2211 non-null   object\n",
      " 8   Stage          1220 non-null   object\n",
      " 9   Year           2343 non-null   object\n",
      "dtypes: object(10)\n",
      "memory usage: 201.4+ KB\n"
     ]
    }
   ],
   "source": [
    "fnd.info()"
   ]
  },
  {
   "cell_type": "code",
   "execution_count": 200,
   "id": "f020a0df-72be-425a-8638-d30f3015b8e3",
   "metadata": {},
   "outputs": [
    {
     "name": "stdout",
     "output_type": "stream",
     "text": [
      "<class 'pandas.core.frame.DataFrame'>\n",
      "Int64Index: 2343 entries, 0 to 1051\n",
      "Data columns (total 10 columns):\n",
      " #   Column         Non-Null Count  Dtype \n",
      "---  ------         --------------  ----- \n",
      " 0   Company/Brand  2343 non-null   object\n",
      " 1   Founded        2343 non-null   int64 \n",
      " 2   HeadQuarter    2228 non-null   object\n",
      " 3   Sector         2325 non-null   object\n",
      " 4   What it does   2343 non-null   object\n",
      " 5   Founders       2324 non-null   object\n",
      " 6   Investor       2243 non-null   object\n",
      " 7   Amount($)      2211 non-null   object\n",
      " 8   Stage          1220 non-null   object\n",
      " 9   Year           2343 non-null   object\n",
      "dtypes: int64(1), object(9)\n",
      "memory usage: 201.4+ KB\n"
     ]
    }
   ],
   "source": [
    "fnd['Founded'] = pd.to_numeric(fnd['Founded'], errors='coerce')\n",
    "fnd['Founded'] = fnd['Founded'].fillna(0)\n",
    "fnd['Founded'] = fnd['Founded'].astype(int)\n",
    "fnd.info()"
   ]
  },
  {
   "cell_type": "code",
   "execution_count": 201,
   "id": "7c215832-32d3-4d6e-8c5c-962e07d2418d",
   "metadata": {},
   "outputs": [
    {
     "name": "stdout",
     "output_type": "stream",
     "text": [
      "<class 'pandas.core.frame.DataFrame'>\n",
      "Int64Index: 2343 entries, 0 to 1051\n",
      "Data columns (total 10 columns):\n",
      " #   Column         Non-Null Count  Dtype  \n",
      "---  ------         --------------  -----  \n",
      " 0   Company/Brand  2343 non-null   object \n",
      " 1   Founded        2343 non-null   int64  \n",
      " 2   HeadQuarter    2228 non-null   object \n",
      " 3   Sector         2325 non-null   object \n",
      " 4   What it does   2343 non-null   object \n",
      " 5   Founders       2324 non-null   object \n",
      " 6   Investor       2243 non-null   object \n",
      " 7   Amount($)      2211 non-null   float64\n",
      " 8   Stage          1220 non-null   object \n",
      " 9   Year           2343 non-null   object \n",
      "dtypes: float64(1), int64(1), object(8)\n",
      "memory usage: 201.4+ KB\n"
     ]
    },
    {
     "name": "stderr",
     "output_type": "stream",
     "text": [
      "/var/folders/vb/bxntwrc90ggcyq4rsgsqbvwh0000gn/T/ipykernel_69834/1851292456.py:4: FutureWarning:\n",
      "\n",
      "The default value of regex will change from True to False in a future version. In addition, single character regular expressions will *not* be treated as literal strings when regex=True.\n",
      "\n"
     ]
    }
   ],
   "source": [
    "fnd['Amount($)'] = fnd['Amount($)'].fillna(0)\n",
    "fnd['Amount($)'] = fnd['Amount($)'].str.replace('Undisclosed', '0')\n",
    "fnd['Amount($)'] = fnd['Amount($)'].str.replace(',', '')\n",
    "fnd['Amount($)'] = fnd['Amount($)'].str.replace('$', '')\n",
    "fnd['Amount($)'] = fnd['Amount($)'].astype('float')\n",
    "fnd.info()"
   ]
  },
  {
   "cell_type": "code",
   "execution_count": 202,
   "id": "19679dc7-1aa2-4c0e-a86a-d38694717a89",
   "metadata": {},
   "outputs": [
    {
     "name": "stdout",
     "output_type": "stream",
     "text": [
      "<class 'pandas.core.frame.DataFrame'>\n",
      "Int64Index: 2343 entries, 0 to 1051\n",
      "Data columns (total 10 columns):\n",
      " #   Column         Non-Null Count  Dtype  \n",
      "---  ------         --------------  -----  \n",
      " 0   Company/Brand  2343 non-null   object \n",
      " 1   Founded        2343 non-null   int64  \n",
      " 2   HeadQuarter    2228 non-null   object \n",
      " 3   Sector         2325 non-null   object \n",
      " 4   What it does   2343 non-null   object \n",
      " 5   Founders       2324 non-null   object \n",
      " 6   Investor       2243 non-null   object \n",
      " 7   Amount($)      2211 non-null   float64\n",
      " 8   Stage          1220 non-null   object \n",
      " 9   Year           2343 non-null   int64  \n",
      "dtypes: float64(1), int64(2), object(7)\n",
      "memory usage: 201.4+ KB\n"
     ]
    }
   ],
   "source": [
    "fnd['Year'] = fnd['Year'].astype('int')\n",
    "fnd.info()"
   ]
  },
  {
   "cell_type": "code",
   "execution_count": 203,
   "id": "dafeba11-d7b5-4c93-9074-e27e54db4524",
   "metadata": {},
   "outputs": [
    {
     "data": {
      "text/plain": [
       "271544633855.83002"
      ]
     },
     "execution_count": 203,
     "metadata": {},
     "output_type": "execute_result"
    }
   ],
   "source": [
    "fnd['Amount($)'].sum()"
   ]
  },
  {
   "cell_type": "markdown",
   "id": "65cd9537-3d28-4361-a8db-8be41843e801",
   "metadata": {},
   "source": [
    "3. The following code shows us that \"Inflection Point Ventures\" was the `Investor` that funded the highest number of `Company/Brand`s overall (36 companies funded from 2019 to 2021). \n",
    "\n",
    "    How did \"Inflection Point Ventures\" **rank** *(in terms of most `Company/Brand`s funded) **in 2020**? (Note: in the answer write the rank number, where 1 = most funded company)*"
   ]
  },
  {
   "cell_type": "code",
   "execution_count": 204,
   "id": "28c4329f-45da-4220-b871-4535ee010fde",
   "metadata": {},
   "outputs": [
    {
     "data": {
      "text/html": [
       "<div>\n",
       "<style scoped>\n",
       "    .dataframe tbody tr th:only-of-type {\n",
       "        vertical-align: middle;\n",
       "    }\n",
       "\n",
       "    .dataframe tbody tr th {\n",
       "        vertical-align: top;\n",
       "    }\n",
       "\n",
       "    .dataframe thead th {\n",
       "        text-align: right;\n",
       "    }\n",
       "</style>\n",
       "<table border=\"1\" class=\"dataframe\">\n",
       "  <thead>\n",
       "    <tr style=\"text-align: right;\">\n",
       "      <th></th>\n",
       "      <th>Investor</th>\n",
       "      <th>size</th>\n",
       "    </tr>\n",
       "  </thead>\n",
       "  <tbody>\n",
       "    <tr>\n",
       "      <th>696</th>\n",
       "      <td>Inflection Point Ventures</td>\n",
       "      <td>36</td>\n",
       "    </tr>\n",
       "  </tbody>\n",
       "</table>\n",
       "</div>"
      ],
      "text/plain": [
       "                      Investor  size\n",
       "696  Inflection Point Ventures    36"
      ]
     },
     "execution_count": 204,
     "metadata": {},
     "output_type": "execute_result"
    }
   ],
   "source": [
    "# run this cell (don not delete it)\n",
    "fnd.groupby('Investor', as_index=False).size().sort_values('size', ascending=False).head(1)"
   ]
  },
  {
   "cell_type": "code",
   "execution_count": 205,
   "id": "6c77666b-4ef9-4df7-a83f-a4231bc9726f",
   "metadata": {},
   "outputs": [
    {
     "data": {
      "text/html": [
       "<div>\n",
       "<style scoped>\n",
       "    .dataframe tbody tr th:only-of-type {\n",
       "        vertical-align: middle;\n",
       "    }\n",
       "\n",
       "    .dataframe tbody tr th {\n",
       "        vertical-align: top;\n",
       "    }\n",
       "\n",
       "    .dataframe thead th {\n",
       "        text-align: right;\n",
       "    }\n",
       "</style>\n",
       "<table border=\"1\" class=\"dataframe\">\n",
       "  <thead>\n",
       "    <tr style=\"text-align: right;\">\n",
       "      <th></th>\n",
       "      <th>Investor</th>\n",
       "      <th>size</th>\n",
       "      <th>rank</th>\n",
       "    </tr>\n",
       "  </thead>\n",
       "  <tbody>\n",
       "    <tr>\n",
       "      <th>0</th>\n",
       "      <td>Venture Catalysts</td>\n",
       "      <td>20</td>\n",
       "      <td>1</td>\n",
       "    </tr>\n",
       "    <tr>\n",
       "      <th>1</th>\n",
       "      <td>Mumbai Angels Network</td>\n",
       "      <td>12</td>\n",
       "      <td>2</td>\n",
       "    </tr>\n",
       "    <tr>\n",
       "      <th>2</th>\n",
       "      <td>Angel investors</td>\n",
       "      <td>12</td>\n",
       "      <td>3</td>\n",
       "    </tr>\n",
       "    <tr>\n",
       "      <th>3</th>\n",
       "      <td>Inflection Point Ventures</td>\n",
       "      <td>11</td>\n",
       "      <td>4</td>\n",
       "    </tr>\n",
       "    <tr>\n",
       "      <th>4</th>\n",
       "      <td>Undisclosed</td>\n",
       "      <td>10</td>\n",
       "      <td>5</td>\n",
       "    </tr>\n",
       "  </tbody>\n",
       "</table>\n",
       "</div>"
      ],
      "text/plain": [
       "                    Investor  size  rank\n",
       "0          Venture Catalysts    20     1\n",
       "1      Mumbai Angels Network    12     2\n",
       "2            Angel investors    12     3\n",
       "3  Inflection Point Ventures    11     4\n",
       "4                Undisclosed    10     5"
      ]
     },
     "execution_count": 205,
     "metadata": {},
     "output_type": "execute_result"
    }
   ],
   "source": [
    "fnd2 = fnd.loc[fnd['Year']==2020]\n",
    "fnd2 = fnd2.groupby('Investor', as_index=False).size().sort_values('size', ascending=False).head(5)\n",
    "fnd2.index = pd.RangeIndex(len(fnd2))\n",
    "fnd2['rank'] = fnd2.index + 1\n",
    "fnd2"
   ]
  },
  {
   "cell_type": "markdown",
   "id": "9e1ebfb8-ee7b-428d-8075-ba8ea6c9f63a",
   "metadata": {},
   "source": [
    "4. Load the `Software Professionals Salary.csv` file in a DataFrame named `sps` (just like you did in Part 1), then perform the following tasks **and answer the question at the end**: \n",
    "    1. starting from the `sps` DataFrame, create a new DF called `sps_loc` where you group by `Location` and show, for each city in the dataset, the average `Rating` and `Salary`;\n",
    "    2. starting from the `fnd` DataFrame, create a new DF called `fnd_loc` where you group by `HeadQuarter` and show, for each city in the dataset **for the year 2021**, the total number of `Company/Brand`s funded and the total `Amount($)` invested;\n",
    "    3. merge the two DataFrames you just created so to **keep just the cities that are in both datasets** and save the results in a third DataFrame called `sps_fnd_loc` *(note: make sure to use the correct type of join)*;\n",
    "    4. using the `sps_fnd_loc` DataFrame: \n",
    "        1. delete the `HeadQuarter` column\n",
    "        2. create a new column `Amount($MM)` that is equal to `Amount($)` divided by 1,000,000\n",
    "        3. delete the `Amount($)` column\n",
    "        4. rename all the columns to the following names: `['City', 'Avg. Rating', 'Avg. Salary', 'Nr. Companies Funded', 'Sum Funding ($MM)']`\n",
    "    \n",
    "    **Question**: Look at the `City` that received the **highest** `Avg. Rating` score by employees: what is the `Nr. Companies Funded` in that city? "
   ]
  },
  {
   "cell_type": "code",
   "execution_count": 221,
   "id": "594dbaa6-906b-4041-9943-148927b5750a",
   "metadata": {
    "tags": []
   },
   "outputs": [
    {
     "name": "stderr",
     "output_type": "stream",
     "text": [
      "/var/folders/vb/bxntwrc90ggcyq4rsgsqbvwh0000gn/T/ipykernel_69834/4138357401.py:2: FutureWarning:\n",
      "\n",
      "Indexing with multiple keys (implicitly converted to a tuple of keys) will be deprecated, use a list instead.\n",
      "\n"
     ]
    },
    {
     "data": {
      "text/html": [
       "<div>\n",
       "<style scoped>\n",
       "    .dataframe tbody tr th:only-of-type {\n",
       "        vertical-align: middle;\n",
       "    }\n",
       "\n",
       "    .dataframe tbody tr th {\n",
       "        vertical-align: top;\n",
       "    }\n",
       "\n",
       "    .dataframe thead th {\n",
       "        text-align: right;\n",
       "    }\n",
       "</style>\n",
       "<table border=\"1\" class=\"dataframe\">\n",
       "  <thead>\n",
       "    <tr style=\"text-align: right;\">\n",
       "      <th></th>\n",
       "      <th>Location</th>\n",
       "      <th>Rating</th>\n",
       "      <th>Salary</th>\n",
       "    </tr>\n",
       "  </thead>\n",
       "  <tbody>\n",
       "    <tr>\n",
       "      <th>0</th>\n",
       "      <td>Bangalore</td>\n",
       "      <td>3.920232</td>\n",
       "      <td>735344.739593</td>\n",
       "    </tr>\n",
       "    <tr>\n",
       "      <th>1</th>\n",
       "      <td>Chennai</td>\n",
       "      <td>3.902726</td>\n",
       "      <td>584559.661513</td>\n",
       "    </tr>\n",
       "    <tr>\n",
       "      <th>2</th>\n",
       "      <td>Hyderabad</td>\n",
       "      <td>3.914484</td>\n",
       "      <td>679099.157376</td>\n",
       "    </tr>\n",
       "    <tr>\n",
       "      <th>3</th>\n",
       "      <td>Jaipur</td>\n",
       "      <td>3.940741</td>\n",
       "      <td>629135.802469</td>\n",
       "    </tr>\n",
       "    <tr>\n",
       "      <th>4</th>\n",
       "      <td>Kerala</td>\n",
       "      <td>3.885185</td>\n",
       "      <td>553577.481481</td>\n",
       "    </tr>\n",
       "    <tr>\n",
       "      <th>5</th>\n",
       "      <td>Kolkata</td>\n",
       "      <td>4.024719</td>\n",
       "      <td>710925.573034</td>\n",
       "    </tr>\n",
       "    <tr>\n",
       "      <th>6</th>\n",
       "      <td>Madhya Pradesh</td>\n",
       "      <td>3.992258</td>\n",
       "      <td>677641.909677</td>\n",
       "    </tr>\n",
       "    <tr>\n",
       "      <th>7</th>\n",
       "      <td>Mumbai</td>\n",
       "      <td>3.881709</td>\n",
       "      <td>961180.368491</td>\n",
       "    </tr>\n",
       "    <tr>\n",
       "      <th>8</th>\n",
       "      <td>New Delhi</td>\n",
       "      <td>3.943415</td>\n",
       "      <td>658756.735632</td>\n",
       "    </tr>\n",
       "    <tr>\n",
       "      <th>9</th>\n",
       "      <td>Pune</td>\n",
       "      <td>3.886082</td>\n",
       "      <td>690476.311153</td>\n",
       "    </tr>\n",
       "  </tbody>\n",
       "</table>\n",
       "</div>"
      ],
      "text/plain": [
       "         Location    Rating         Salary\n",
       "0       Bangalore  3.920232  735344.739593\n",
       "1         Chennai  3.902726  584559.661513\n",
       "2       Hyderabad  3.914484  679099.157376\n",
       "3          Jaipur  3.940741  629135.802469\n",
       "4          Kerala  3.885185  553577.481481\n",
       "5         Kolkata  4.024719  710925.573034\n",
       "6  Madhya Pradesh  3.992258  677641.909677\n",
       "7          Mumbai  3.881709  961180.368491\n",
       "8       New Delhi  3.943415  658756.735632\n",
       "9            Pune  3.886082  690476.311153"
      ]
     },
     "execution_count": 221,
     "metadata": {},
     "output_type": "execute_result"
    }
   ],
   "source": [
    "sps = pd.read_csv('data/Software Professionals Salary.csv')\n",
    "sps_loc = sps.groupby('Location', as_index=False)['Rating','Salary'].mean()\n",
    "sps_loc"
   ]
  },
  {
   "cell_type": "code",
   "execution_count": 222,
   "id": "21cb7405-6d62-4d5a-851d-8f93f0aba3e4",
   "metadata": {},
   "outputs": [
    {
     "data": {
      "text/html": [
       "<div>\n",
       "<style scoped>\n",
       "    .dataframe tbody tr th:only-of-type {\n",
       "        vertical-align: middle;\n",
       "    }\n",
       "\n",
       "    .dataframe tbody tr th {\n",
       "        vertical-align: top;\n",
       "    }\n",
       "\n",
       "    .dataframe thead th {\n",
       "        text-align: right;\n",
       "    }\n",
       "</style>\n",
       "<table border=\"1\" class=\"dataframe\">\n",
       "  <thead>\n",
       "    <tr style=\"text-align: right;\">\n",
       "      <th></th>\n",
       "      <th>HeadQuarter</th>\n",
       "      <th>Company/Brand</th>\n",
       "      <th>Amount($)</th>\n",
       "    </tr>\n",
       "  </thead>\n",
       "  <tbody>\n",
       "    <tr>\n",
       "      <th>0</th>\n",
       "      <td>Ahmadabad</td>\n",
       "      <td>6</td>\n",
       "      <td>4.300000e+06</td>\n",
       "    </tr>\n",
       "    <tr>\n",
       "      <th>1</th>\n",
       "      <td>Ahmedabad</td>\n",
       "      <td>11</td>\n",
       "      <td>1.981550e+08</td>\n",
       "    </tr>\n",
       "    <tr>\n",
       "      <th>2</th>\n",
       "      <td>Ambernath</td>\n",
       "      <td>1</td>\n",
       "      <td>0.000000e+00</td>\n",
       "    </tr>\n",
       "    <tr>\n",
       "      <th>3</th>\n",
       "      <td>Andheri</td>\n",
       "      <td>1</td>\n",
       "      <td>0.000000e+00</td>\n",
       "    </tr>\n",
       "    <tr>\n",
       "      <th>4</th>\n",
       "      <td>Bangalore</td>\n",
       "      <td>425</td>\n",
       "      <td>1.432742e+10</td>\n",
       "    </tr>\n",
       "  </tbody>\n",
       "</table>\n",
       "</div>"
      ],
      "text/plain": [
       "  HeadQuarter  Company/Brand     Amount($)\n",
       "0   Ahmadabad              6  4.300000e+06\n",
       "1   Ahmedabad             11  1.981550e+08\n",
       "2   Ambernath              1  0.000000e+00\n",
       "3     Andheri              1  0.000000e+00\n",
       "4   Bangalore            425  1.432742e+10"
      ]
     },
     "execution_count": 222,
     "metadata": {},
     "output_type": "execute_result"
    }
   ],
   "source": [
    "paolo = fnd.loc[fnd['Year']==2021]\n",
    "fnd_loc = paolo.groupby(['HeadQuarter'], as_index=False).agg({'Company/Brand': 'size', 'Amount($)': 'sum'})\n",
    "fnd_loc.head(5)"
   ]
  },
  {
   "cell_type": "code",
   "execution_count": 223,
   "id": "0562a2ad-d71e-4ea2-bcb4-ec2906f4366e",
   "metadata": {},
   "outputs": [
    {
     "data": {
      "text/html": [
       "<div>\n",
       "<style scoped>\n",
       "    .dataframe tbody tr th:only-of-type {\n",
       "        vertical-align: middle;\n",
       "    }\n",
       "\n",
       "    .dataframe tbody tr th {\n",
       "        vertical-align: top;\n",
       "    }\n",
       "\n",
       "    .dataframe thead th {\n",
       "        text-align: right;\n",
       "    }\n",
       "</style>\n",
       "<table border=\"1\" class=\"dataframe\">\n",
       "  <thead>\n",
       "    <tr style=\"text-align: right;\">\n",
       "      <th></th>\n",
       "      <th>Location</th>\n",
       "      <th>Rating</th>\n",
       "      <th>Salary</th>\n",
       "      <th>HeadQuarter</th>\n",
       "      <th>Company/Brand</th>\n",
       "      <th>Amount($)</th>\n",
       "    </tr>\n",
       "  </thead>\n",
       "  <tbody>\n",
       "    <tr>\n",
       "      <th>4</th>\n",
       "      <td>Kolkata</td>\n",
       "      <td>4.024719</td>\n",
       "      <td>710925.573034</td>\n",
       "      <td>Kolkata</td>\n",
       "      <td>5</td>\n",
       "      <td>2.800000e+07</td>\n",
       "    </tr>\n",
       "    <tr>\n",
       "      <th>6</th>\n",
       "      <td>New Delhi</td>\n",
       "      <td>3.943415</td>\n",
       "      <td>658756.735632</td>\n",
       "      <td>New Delhi</td>\n",
       "      <td>143</td>\n",
       "      <td>1.673010e+09</td>\n",
       "    </tr>\n",
       "    <tr>\n",
       "      <th>3</th>\n",
       "      <td>Jaipur</td>\n",
       "      <td>3.940741</td>\n",
       "      <td>629135.802469</td>\n",
       "      <td>Jaipur</td>\n",
       "      <td>11</td>\n",
       "      <td>3.433000e+08</td>\n",
       "    </tr>\n",
       "    <tr>\n",
       "      <th>0</th>\n",
       "      <td>Bangalore</td>\n",
       "      <td>3.920232</td>\n",
       "      <td>735344.739593</td>\n",
       "      <td>Bangalore</td>\n",
       "      <td>425</td>\n",
       "      <td>1.432742e+10</td>\n",
       "    </tr>\n",
       "    <tr>\n",
       "      <th>2</th>\n",
       "      <td>Hyderabad</td>\n",
       "      <td>3.914484</td>\n",
       "      <td>679099.157376</td>\n",
       "      <td>Hyderabad</td>\n",
       "      <td>34</td>\n",
       "      <td>2.439600e+08</td>\n",
       "    </tr>\n",
       "    <tr>\n",
       "      <th>1</th>\n",
       "      <td>Chennai</td>\n",
       "      <td>3.902726</td>\n",
       "      <td>584559.661513</td>\n",
       "      <td>Chennai</td>\n",
       "      <td>40</td>\n",
       "      <td>7.171400e+08</td>\n",
       "    </tr>\n",
       "    <tr>\n",
       "      <th>7</th>\n",
       "      <td>Pune</td>\n",
       "      <td>3.886082</td>\n",
       "      <td>690476.311153</td>\n",
       "      <td>Pune</td>\n",
       "      <td>46</td>\n",
       "      <td>5.090700e+08</td>\n",
       "    </tr>\n",
       "    <tr>\n",
       "      <th>5</th>\n",
       "      <td>Mumbai</td>\n",
       "      <td>3.881709</td>\n",
       "      <td>961180.368491</td>\n",
       "      <td>Mumbai</td>\n",
       "      <td>200</td>\n",
       "      <td>1.538303e+11</td>\n",
       "    </tr>\n",
       "  </tbody>\n",
       "</table>\n",
       "</div>"
      ],
      "text/plain": [
       "    Location    Rating         Salary HeadQuarter  Company/Brand     Amount($)\n",
       "4    Kolkata  4.024719  710925.573034     Kolkata              5  2.800000e+07\n",
       "6  New Delhi  3.943415  658756.735632   New Delhi            143  1.673010e+09\n",
       "3     Jaipur  3.940741  629135.802469      Jaipur             11  3.433000e+08\n",
       "0  Bangalore  3.920232  735344.739593   Bangalore            425  1.432742e+10\n",
       "2  Hyderabad  3.914484  679099.157376   Hyderabad             34  2.439600e+08\n",
       "1    Chennai  3.902726  584559.661513     Chennai             40  7.171400e+08\n",
       "7       Pune  3.886082  690476.311153        Pune             46  5.090700e+08\n",
       "5     Mumbai  3.881709  961180.368491      Mumbai            200  1.538303e+11"
      ]
     },
     "execution_count": 223,
     "metadata": {},
     "output_type": "execute_result"
    }
   ],
   "source": [
    "sps_fnd_loc = pd.merge(sps_loc, fnd_loc, how=\"inner\", left_on=\"Location\", right_on=\"HeadQuarter\")\n",
    "sps_fnd_loc.sort_values('Rating', ascending=False)"
   ]
  },
  {
   "cell_type": "code",
   "execution_count": 224,
   "id": "502f0416-1f81-443b-830f-7fdf2979c4ee",
   "metadata": {},
   "outputs": [
    {
     "data": {
      "text/html": [
       "<div>\n",
       "<style scoped>\n",
       "    .dataframe tbody tr th:only-of-type {\n",
       "        vertical-align: middle;\n",
       "    }\n",
       "\n",
       "    .dataframe tbody tr th {\n",
       "        vertical-align: top;\n",
       "    }\n",
       "\n",
       "    .dataframe thead th {\n",
       "        text-align: right;\n",
       "    }\n",
       "</style>\n",
       "<table border=\"1\" class=\"dataframe\">\n",
       "  <thead>\n",
       "    <tr style=\"text-align: right;\">\n",
       "      <th></th>\n",
       "      <th>City</th>\n",
       "      <th>Avg. Rating</th>\n",
       "      <th>Avg. Salary</th>\n",
       "      <th>Nr. Companies Funded</th>\n",
       "      <th>Amount($MM)</th>\n",
       "    </tr>\n",
       "  </thead>\n",
       "  <tbody>\n",
       "    <tr>\n",
       "      <th>0</th>\n",
       "      <td>Bangalore</td>\n",
       "      <td>3.920232</td>\n",
       "      <td>735344.739593</td>\n",
       "      <td>425</td>\n",
       "      <td>14327.42</td>\n",
       "    </tr>\n",
       "    <tr>\n",
       "      <th>1</th>\n",
       "      <td>Chennai</td>\n",
       "      <td>3.902726</td>\n",
       "      <td>584559.661513</td>\n",
       "      <td>40</td>\n",
       "      <td>717.14</td>\n",
       "    </tr>\n",
       "    <tr>\n",
       "      <th>2</th>\n",
       "      <td>Hyderabad</td>\n",
       "      <td>3.914484</td>\n",
       "      <td>679099.157376</td>\n",
       "      <td>34</td>\n",
       "      <td>243.96</td>\n",
       "    </tr>\n",
       "    <tr>\n",
       "      <th>3</th>\n",
       "      <td>Jaipur</td>\n",
       "      <td>3.940741</td>\n",
       "      <td>629135.802469</td>\n",
       "      <td>11</td>\n",
       "      <td>343.30</td>\n",
       "    </tr>\n",
       "    <tr>\n",
       "      <th>4</th>\n",
       "      <td>Kolkata</td>\n",
       "      <td>4.024719</td>\n",
       "      <td>710925.573034</td>\n",
       "      <td>5</td>\n",
       "      <td>28.00</td>\n",
       "    </tr>\n",
       "    <tr>\n",
       "      <th>5</th>\n",
       "      <td>Mumbai</td>\n",
       "      <td>3.881709</td>\n",
       "      <td>961180.368491</td>\n",
       "      <td>200</td>\n",
       "      <td>153830.30</td>\n",
       "    </tr>\n",
       "    <tr>\n",
       "      <th>6</th>\n",
       "      <td>New Delhi</td>\n",
       "      <td>3.943415</td>\n",
       "      <td>658756.735632</td>\n",
       "      <td>143</td>\n",
       "      <td>1673.01</td>\n",
       "    </tr>\n",
       "    <tr>\n",
       "      <th>7</th>\n",
       "      <td>Pune</td>\n",
       "      <td>3.886082</td>\n",
       "      <td>690476.311153</td>\n",
       "      <td>46</td>\n",
       "      <td>509.07</td>\n",
       "    </tr>\n",
       "  </tbody>\n",
       "</table>\n",
       "</div>"
      ],
      "text/plain": [
       "        City  Avg. Rating    Avg. Salary  Nr. Companies Funded  Amount($MM)\n",
       "0  Bangalore     3.920232  735344.739593                   425     14327.42\n",
       "1    Chennai     3.902726  584559.661513                    40       717.14\n",
       "2  Hyderabad     3.914484  679099.157376                    34       243.96\n",
       "3     Jaipur     3.940741  629135.802469                    11       343.30\n",
       "4    Kolkata     4.024719  710925.573034                     5        28.00\n",
       "5     Mumbai     3.881709  961180.368491                   200    153830.30\n",
       "6  New Delhi     3.943415  658756.735632                   143      1673.01\n",
       "7       Pune     3.886082  690476.311153                    46       509.07"
      ]
     },
     "execution_count": 224,
     "metadata": {},
     "output_type": "execute_result"
    }
   ],
   "source": [
    "sps_fnd_loc.drop('HeadQuarter', axis=1, inplace=True)\n",
    "sps_fnd_loc['Amount($MM)'] = sps_fnd_loc['Amount($)'] / 1000000\n",
    "sps_fnd_loc.drop('Amount($)', axis=1, inplace=True)\n",
    "sps_fnd_loc.rename(columns={'Location':'City', 'Rating':'Avg. Rating','Salary':'Avg. Salary','Company/Brand':'Nr. Companies Funded','Amount($)':'Sum Funding ($MM)'}, inplace=True)\n",
    "sps_fnd_loc"
   ]
  },
  {
   "cell_type": "markdown",
   "id": "a7dcfa1d-2439-4f63-bd15-abf5e7398a2e",
   "metadata": {},
   "source": [
    "5. Create a scatterplot that shows the relationship between the `Avg. Salary` and the `Sum Funding ($MM)`. Which `City` stands out in terms of total funding received by companies and salary paid to their employees? "
   ]
  },
  {
   "cell_type": "code",
   "execution_count": 226,
   "id": "e046b4cb-b783-455c-9a39-7fddc33b1119",
   "metadata": {},
   "outputs": [
    {
     "data": {
      "text/plain": [
       "<AxesSubplot:xlabel='Avg. Salary', ylabel='Amount($MM)'>"
      ]
     },
     "execution_count": 226,
     "metadata": {},
     "output_type": "execute_result"
    },
    {
     "data": {
      "image/png": "[encoded data removed]",
      "text/plain": [
       "<Figure size 936x504 with 1 Axes>"
      ]
     },
     "metadata": {},
     "output_type": "display_data"
    }
   ],
   "source": [
    "sns.scatterplot(x='Avg. Salary', y='Amount($MM)', data=sps_fnd_loc)"
   ]
  },
  {
   "cell_type": "markdown",
   "id": "40deb346-babe-4dcb-81e2-6fc4d73acb2b",
   "metadata": {},
   "source": [
    "6. [BONUS] --> optional\n",
    "\n",
    "    Using libraries of your choice, scrape [this census page](https://www.census2011.co.in/city.php) and create a DataFrame called `cities` containing the first table from that page. *(Note: make sure to convert the variables `Population` and `Literacy` to numeric, you will need them later)*\n",
    "    1. Which City has the highest levels of `Literacy` in the country?\n",
    "    2. Merge the `cities` table with the `sps_fnd_loc` in a new DataFrame called `sps_fnd_loc_lit`. The resulting DataFrame is missing one row compared to the `sps_fnd_loc` dataset. Which `City` is missing? Figure out why and fix the problem. \n",
    "    3. Looking at the new `sps_fnd_loc_lit` DataFrame, produce a scatterplot that shows `Literacy` on the x-axis, `Avg. Salary` on the y-axis and the `Population` as the size of the circles. Try also to add the `City` labels to each circle in the chart. There seems to be a positive direct relationship between the two variables (higher levels of literacy correspond to higher salaries), but there is one city that escapes this interpretation. Which city is it? Try to describe the chart and give your interpretation. "
   ]
  },
  {
   "cell_type": "code",
   "execution_count": 156,
   "id": "a41bffd3-af6d-49a6-ac97-759e4a92d413",
   "metadata": {},
   "outputs": [
    {
     "name": "stderr",
     "output_type": "stream",
     "text": [
      "/var/folders/vb/bxntwrc90ggcyq4rsgsqbvwh0000gn/T/ipykernel_69834/863067812.py:10: DeprecationWarning: executable_path has been deprecated, please pass in a Service object\n",
      "  driver = webdriver.Chrome(path + '/chromedriver')\n"
     ]
    },
    {
     "data": {
      "text/plain": [
       "[       #        City           State  Population  Metropolitan  Sexratio  \\\n",
       " 0      1      Mumbai     Maharashtra    12442373      18414288       853   \n",
       " 1      2       Delhi           Delhi    11034555      16314838       876   \n",
       " 2      3   Bangalore       Karnataka     8443675       8499399       923   \n",
       " 3      4   Hyderabad  Andhra Pradesh     6731790       7749334       955   \n",
       " 4      5   Ahmedabad         Gujarat     5577940       6352254       898   \n",
       " ..   ...         ...             ...         ...           ...       ...   \n",
       " 493  494     Gangtok          Sikkim      100286        100286       912   \n",
       " 494  495       Datia  Madhya Pradesh      100284        100284       900   \n",
       " 495  496       Nagda  Madhya Pradesh      100039        100039       947   \n",
       " 496  497    Banswara       Rajasthan       99969        101177       960   \n",
       " 497  498  Kapurthala          Punjab       98916         98916       839   \n",
       " \n",
       "      Literacy  \n",
       " 0       89.73  \n",
       " 1       87.59  \n",
       " 2       88.71  \n",
       " 3       83.26  \n",
       " 4       88.29  \n",
       " ..        ...  \n",
       " 493     89.33  \n",
       " 494     80.56  \n",
       " 495     80.71  \n",
       " 496     85.72  \n",
       " 497     85.08  \n",
       " \n",
       " [498 rows x 7 columns]]"
      ]
     },
     "execution_count": 156,
     "metadata": {},
     "output_type": "execute_result"
    }
   ],
   "source": [
    "from selenium import webdriver\n",
    "from selenium.webdriver.common.by import By\n",
    "from selenium.webdriver.support.ui import Select\n",
    "import pandas as pd\n",
    "import lxml\n",
    "\n",
    "\n",
    "path = '/Users/iliaromanov/Documents/Data Analytics/git/3.14.35-Web-Scraping-and-Web-Interaction'\n",
    "\n",
    "driver = webdriver.Chrome(path + '/chromedriver')\n",
    "\n",
    "driver.get(\"https://www.census2011.co.in/city.php\")\n",
    "\n",
    "webtable_df = pd.read_html(driver.find_element(By.CLASS_NAME, 'table-responsive').get_attribute('outerHTML'))\n",
    "\n",
    "webtable_df"
   ]
  },
  {
   "cell_type": "code",
   "execution_count": 159,
   "id": "f7809462-e238-42fa-925f-e03755b568e6",
   "metadata": {},
   "outputs": [
    {
     "data": {
      "text/html": [
       "<div>\n",
       "<style scoped>\n",
       "    .dataframe tbody tr th:only-of-type {\n",
       "        vertical-align: middle;\n",
       "    }\n",
       "\n",
       "    .dataframe tbody tr th {\n",
       "        vertical-align: top;\n",
       "    }\n",
       "\n",
       "    .dataframe thead th {\n",
       "        text-align: right;\n",
       "    }\n",
       "</style>\n",
       "<table border=\"1\" class=\"dataframe\">\n",
       "  <thead>\n",
       "    <tr style=\"text-align: right;\">\n",
       "      <th></th>\n",
       "      <th>#</th>\n",
       "      <th>City</th>\n",
       "      <th>State</th>\n",
       "      <th>Population</th>\n",
       "      <th>Metropolitan</th>\n",
       "      <th>Sexratio</th>\n",
       "      <th>Literacy</th>\n",
       "    </tr>\n",
       "  </thead>\n",
       "  <tbody>\n",
       "    <tr>\n",
       "      <th>0</th>\n",
       "      <td>1</td>\n",
       "      <td>Mumbai</td>\n",
       "      <td>Maharashtra</td>\n",
       "      <td>12442373</td>\n",
       "      <td>18414288</td>\n",
       "      <td>853</td>\n",
       "      <td>89.73</td>\n",
       "    </tr>\n",
       "    <tr>\n",
       "      <th>1</th>\n",
       "      <td>2</td>\n",
       "      <td>Delhi</td>\n",
       "      <td>Delhi</td>\n",
       "      <td>11034555</td>\n",
       "      <td>16314838</td>\n",
       "      <td>876</td>\n",
       "      <td>87.59</td>\n",
       "    </tr>\n",
       "    <tr>\n",
       "      <th>2</th>\n",
       "      <td>3</td>\n",
       "      <td>Bangalore</td>\n",
       "      <td>Karnataka</td>\n",
       "      <td>8443675</td>\n",
       "      <td>8499399</td>\n",
       "      <td>923</td>\n",
       "      <td>88.71</td>\n",
       "    </tr>\n",
       "    <tr>\n",
       "      <th>3</th>\n",
       "      <td>4</td>\n",
       "      <td>Hyderabad</td>\n",
       "      <td>Andhra Pradesh</td>\n",
       "      <td>6731790</td>\n",
       "      <td>7749334</td>\n",
       "      <td>955</td>\n",
       "      <td>83.26</td>\n",
       "    </tr>\n",
       "    <tr>\n",
       "      <th>4</th>\n",
       "      <td>5</td>\n",
       "      <td>Ahmedabad</td>\n",
       "      <td>Gujarat</td>\n",
       "      <td>5577940</td>\n",
       "      <td>6352254</td>\n",
       "      <td>898</td>\n",
       "      <td>88.29</td>\n",
       "    </tr>\n",
       "    <tr>\n",
       "      <th>...</th>\n",
       "      <td>...</td>\n",
       "      <td>...</td>\n",
       "      <td>...</td>\n",
       "      <td>...</td>\n",
       "      <td>...</td>\n",
       "      <td>...</td>\n",
       "      <td>...</td>\n",
       "    </tr>\n",
       "    <tr>\n",
       "      <th>493</th>\n",
       "      <td>494</td>\n",
       "      <td>Gangtok</td>\n",
       "      <td>Sikkim</td>\n",
       "      <td>100286</td>\n",
       "      <td>100286</td>\n",
       "      <td>912</td>\n",
       "      <td>89.33</td>\n",
       "    </tr>\n",
       "    <tr>\n",
       "      <th>494</th>\n",
       "      <td>495</td>\n",
       "      <td>Datia</td>\n",
       "      <td>Madhya Pradesh</td>\n",
       "      <td>100284</td>\n",
       "      <td>100284</td>\n",
       "      <td>900</td>\n",
       "      <td>80.56</td>\n",
       "    </tr>\n",
       "    <tr>\n",
       "      <th>495</th>\n",
       "      <td>496</td>\n",
       "      <td>Nagda</td>\n",
       "      <td>Madhya Pradesh</td>\n",
       "      <td>100039</td>\n",
       "      <td>100039</td>\n",
       "      <td>947</td>\n",
       "      <td>80.71</td>\n",
       "    </tr>\n",
       "    <tr>\n",
       "      <th>496</th>\n",
       "      <td>497</td>\n",
       "      <td>Banswara</td>\n",
       "      <td>Rajasthan</td>\n",
       "      <td>99969</td>\n",
       "      <td>101177</td>\n",
       "      <td>960</td>\n",
       "      <td>85.72</td>\n",
       "    </tr>\n",
       "    <tr>\n",
       "      <th>497</th>\n",
       "      <td>498</td>\n",
       "      <td>Kapurthala</td>\n",
       "      <td>Punjab</td>\n",
       "      <td>98916</td>\n",
       "      <td>98916</td>\n",
       "      <td>839</td>\n",
       "      <td>85.08</td>\n",
       "    </tr>\n",
       "  </tbody>\n",
       "</table>\n",
       "<p>498 rows × 7 columns</p>\n",
       "</div>"
      ],
      "text/plain": [
       "       #        City           State  Population  Metropolitan  Sexratio  \\\n",
       "0      1      Mumbai     Maharashtra    12442373      18414288       853   \n",
       "1      2       Delhi           Delhi    11034555      16314838       876   \n",
       "2      3   Bangalore       Karnataka     8443675       8499399       923   \n",
       "3      4   Hyderabad  Andhra Pradesh     6731790       7749334       955   \n",
       "4      5   Ahmedabad         Gujarat     5577940       6352254       898   \n",
       "..   ...         ...             ...         ...           ...       ...   \n",
       "493  494     Gangtok          Sikkim      100286        100286       912   \n",
       "494  495       Datia  Madhya Pradesh      100284        100284       900   \n",
       "495  496       Nagda  Madhya Pradesh      100039        100039       947   \n",
       "496  497    Banswara       Rajasthan       99969        101177       960   \n",
       "497  498  Kapurthala          Punjab       98916         98916       839   \n",
       "\n",
       "     Literacy  \n",
       "0       89.73  \n",
       "1       87.59  \n",
       "2       88.71  \n",
       "3       83.26  \n",
       "4       88.29  \n",
       "..        ...  \n",
       "493     89.33  \n",
       "494     80.56  \n",
       "495     80.71  \n",
       "496     85.72  \n",
       "497     85.08  \n",
       "\n",
       "[498 rows x 7 columns]"
      ]
     },
     "execution_count": 159,
     "metadata": {},
     "output_type": "execute_result"
    }
   ],
   "source": [
    "pippo = webtable_df[0]\n",
    "pippo"
   ]
  },
  {
   "cell_type": "code",
   "execution_count": 166,
   "id": "23035f93-9235-4992-b9a7-e541feca69c6",
   "metadata": {},
   "outputs": [
    {
     "data": {
      "text/html": [
       "<div>\n",
       "<style scoped>\n",
       "    .dataframe tbody tr th:only-of-type {\n",
       "        vertical-align: middle;\n",
       "    }\n",
       "\n",
       "    .dataframe tbody tr th {\n",
       "        vertical-align: top;\n",
       "    }\n",
       "\n",
       "    .dataframe thead th {\n",
       "        text-align: right;\n",
       "    }\n",
       "</style>\n",
       "<table border=\"1\" class=\"dataframe\">\n",
       "  <thead>\n",
       "    <tr style=\"text-align: right;\">\n",
       "      <th></th>\n",
       "      <th>#</th>\n",
       "      <th>City</th>\n",
       "      <th>State</th>\n",
       "      <th>Population</th>\n",
       "      <th>Metropolitan</th>\n",
       "      <th>Sexratio</th>\n",
       "      <th>Literacy</th>\n",
       "    </tr>\n",
       "  </thead>\n",
       "  <tbody>\n",
       "    <tr>\n",
       "      <th>150</th>\n",
       "      <td>151</td>\n",
       "      <td>Aizawl</td>\n",
       "      <td>Mizoram</td>\n",
       "      <td>293416</td>\n",
       "      <td>293416</td>\n",
       "      <td>1025</td>\n",
       "      <td>98.36</td>\n",
       "    </tr>\n",
       "    <tr>\n",
       "      <th>73</th>\n",
       "      <td>74</td>\n",
       "      <td>Kochi</td>\n",
       "      <td>Kerala</td>\n",
       "      <td>602046</td>\n",
       "      <td>2117990</td>\n",
       "      <td>1027</td>\n",
       "      <td>97.36</td>\n",
       "    </tr>\n",
       "    <tr>\n",
       "      <th>137</th>\n",
       "      <td>138</td>\n",
       "      <td>Thrissur</td>\n",
       "      <td>Kerala</td>\n",
       "      <td>315957</td>\n",
       "      <td>1854783</td>\n",
       "      <td>1075</td>\n",
       "      <td>97.06</td>\n",
       "    </tr>\n",
       "    <tr>\n",
       "      <th>102</th>\n",
       "      <td>103</td>\n",
       "      <td>Kozhikode</td>\n",
       "      <td>Kerala</td>\n",
       "      <td>431560</td>\n",
       "      <td>2030519</td>\n",
       "      <td>1093</td>\n",
       "      <td>96.53</td>\n",
       "    </tr>\n",
       "    <tr>\n",
       "      <th>267</th>\n",
       "      <td>268</td>\n",
       "      <td>Alappuzha</td>\n",
       "      <td>Kerala</td>\n",
       "      <td>174176</td>\n",
       "      <td>241072</td>\n",
       "      <td>1077</td>\n",
       "      <td>96.20</td>\n",
       "    </tr>\n",
       "  </tbody>\n",
       "</table>\n",
       "</div>"
      ],
      "text/plain": [
       "       #       City    State  Population  Metropolitan  Sexratio  Literacy\n",
       "150  151     Aizawl  Mizoram      293416        293416      1025     98.36\n",
       "73    74      Kochi   Kerala      602046       2117990      1027     97.36\n",
       "137  138   Thrissur   Kerala      315957       1854783      1075     97.06\n",
       "102  103  Kozhikode   Kerala      431560       2030519      1093     96.53\n",
       "267  268  Alappuzha   Kerala      174176        241072      1077     96.20"
      ]
     },
     "execution_count": 166,
     "metadata": {},
     "output_type": "execute_result"
    }
   ],
   "source": [
    "pippo1 = pippo.sort_values(by=['Literacy'], ascending=False)\n",
    "pippo1.head(5)"
   ]
  },
  {
   "cell_type": "code",
   "execution_count": 187,
   "id": "51463ca5-9675-4921-8ce0-8ee34b0d0a4f",
   "metadata": {},
   "outputs": [],
   "source": [
    "sps_fnd_loc_lit = pd.merge(sps_fnd_loc, pippo1, how=\"inner\", left_on=\"City\", right_on=\"City\")"
   ]
  },
  {
   "cell_type": "code",
   "execution_count": 188,
   "id": "ba7b93e3-8824-458f-955c-218c4a10ef4e",
   "metadata": {},
   "outputs": [
    {
     "data": {
      "text/html": [
       "<div>\n",
       "<style scoped>\n",
       "    .dataframe tbody tr th:only-of-type {\n",
       "        vertical-align: middle;\n",
       "    }\n",
       "\n",
       "    .dataframe tbody tr th {\n",
       "        vertical-align: top;\n",
       "    }\n",
       "\n",
       "    .dataframe thead th {\n",
       "        text-align: right;\n",
       "    }\n",
       "</style>\n",
       "<table border=\"1\" class=\"dataframe\">\n",
       "  <thead>\n",
       "    <tr style=\"text-align: right;\">\n",
       "      <th></th>\n",
       "      <th>City</th>\n",
       "      <th>Avg. Rating</th>\n",
       "      <th>Avg. Salary</th>\n",
       "      <th>Nr. Companies Funded</th>\n",
       "      <th>Amount($MM)</th>\n",
       "      <th>#</th>\n",
       "      <th>State</th>\n",
       "      <th>Population</th>\n",
       "      <th>Metropolitan</th>\n",
       "      <th>Sexratio</th>\n",
       "      <th>Literacy</th>\n",
       "    </tr>\n",
       "  </thead>\n",
       "  <tbody>\n",
       "    <tr>\n",
       "      <th>0</th>\n",
       "      <td>Bangalore</td>\n",
       "      <td>3.920232</td>\n",
       "      <td>735344.739593</td>\n",
       "      <td>425</td>\n",
       "      <td>14327.42</td>\n",
       "      <td>3</td>\n",
       "      <td>Karnataka</td>\n",
       "      <td>8443675</td>\n",
       "      <td>8499399</td>\n",
       "      <td>923</td>\n",
       "      <td>88.71</td>\n",
       "    </tr>\n",
       "    <tr>\n",
       "      <th>1</th>\n",
       "      <td>Chennai</td>\n",
       "      <td>3.902726</td>\n",
       "      <td>584559.661513</td>\n",
       "      <td>40</td>\n",
       "      <td>717.14</td>\n",
       "      <td>6</td>\n",
       "      <td>Tamil Nadu</td>\n",
       "      <td>4646732</td>\n",
       "      <td>8696010</td>\n",
       "      <td>989</td>\n",
       "      <td>90.18</td>\n",
       "    </tr>\n",
       "    <tr>\n",
       "      <th>2</th>\n",
       "      <td>Hyderabad</td>\n",
       "      <td>3.914484</td>\n",
       "      <td>679099.157376</td>\n",
       "      <td>34</td>\n",
       "      <td>243.96</td>\n",
       "      <td>4</td>\n",
       "      <td>Andhra Pradesh</td>\n",
       "      <td>6731790</td>\n",
       "      <td>7749334</td>\n",
       "      <td>955</td>\n",
       "      <td>83.26</td>\n",
       "    </tr>\n",
       "    <tr>\n",
       "      <th>3</th>\n",
       "      <td>Jaipur</td>\n",
       "      <td>3.940741</td>\n",
       "      <td>629135.802469</td>\n",
       "      <td>11</td>\n",
       "      <td>343.30</td>\n",
       "      <td>10</td>\n",
       "      <td>Rajasthan</td>\n",
       "      <td>3046163</td>\n",
       "      <td>3046163</td>\n",
       "      <td>900</td>\n",
       "      <td>83.33</td>\n",
       "    </tr>\n",
       "    <tr>\n",
       "      <th>4</th>\n",
       "      <td>Kolkata</td>\n",
       "      <td>4.024719</td>\n",
       "      <td>710925.573034</td>\n",
       "      <td>5</td>\n",
       "      <td>28.00</td>\n",
       "      <td>7</td>\n",
       "      <td>West Bengal</td>\n",
       "      <td>4496694</td>\n",
       "      <td>14112536</td>\n",
       "      <td>908</td>\n",
       "      <td>86.31</td>\n",
       "    </tr>\n",
       "    <tr>\n",
       "      <th>5</th>\n",
       "      <td>Mumbai</td>\n",
       "      <td>3.881709</td>\n",
       "      <td>961180.368491</td>\n",
       "      <td>200</td>\n",
       "      <td>153830.30</td>\n",
       "      <td>1</td>\n",
       "      <td>Maharashtra</td>\n",
       "      <td>12442373</td>\n",
       "      <td>18414288</td>\n",
       "      <td>853</td>\n",
       "      <td>89.73</td>\n",
       "    </tr>\n",
       "    <tr>\n",
       "      <th>6</th>\n",
       "      <td>Delhi</td>\n",
       "      <td>3.943415</td>\n",
       "      <td>658756.735632</td>\n",
       "      <td>143</td>\n",
       "      <td>1673.01</td>\n",
       "      <td>2</td>\n",
       "      <td>Delhi</td>\n",
       "      <td>11034555</td>\n",
       "      <td>16314838</td>\n",
       "      <td>876</td>\n",
       "      <td>87.59</td>\n",
       "    </tr>\n",
       "    <tr>\n",
       "      <th>7</th>\n",
       "      <td>Pune</td>\n",
       "      <td>3.886082</td>\n",
       "      <td>690476.311153</td>\n",
       "      <td>46</td>\n",
       "      <td>509.07</td>\n",
       "      <td>9</td>\n",
       "      <td>Maharashtra</td>\n",
       "      <td>3124458</td>\n",
       "      <td>5049968</td>\n",
       "      <td>948</td>\n",
       "      <td>89.56</td>\n",
       "    </tr>\n",
       "  </tbody>\n",
       "</table>\n",
       "</div>"
      ],
      "text/plain": [
       "        City  Avg. Rating    Avg. Salary  Nr. Companies Funded  Amount($MM)  \\\n",
       "0  Bangalore     3.920232  735344.739593                   425     14327.42   \n",
       "1    Chennai     3.902726  584559.661513                    40       717.14   \n",
       "2  Hyderabad     3.914484  679099.157376                    34       243.96   \n",
       "3     Jaipur     3.940741  629135.802469                    11       343.30   \n",
       "4    Kolkata     4.024719  710925.573034                     5        28.00   \n",
       "5     Mumbai     3.881709  961180.368491                   200    153830.30   \n",
       "6      Delhi     3.943415  658756.735632                   143      1673.01   \n",
       "7       Pune     3.886082  690476.311153                    46       509.07   \n",
       "\n",
       "    #           State  Population  Metropolitan  Sexratio  Literacy  \n",
       "0   3       Karnataka     8443675       8499399       923     88.71  \n",
       "1   6      Tamil Nadu     4646732       8696010       989     90.18  \n",
       "2   4  Andhra Pradesh     6731790       7749334       955     83.26  \n",
       "3  10       Rajasthan     3046163       3046163       900     83.33  \n",
       "4   7     West Bengal     4496694      14112536       908     86.31  \n",
       "5   1     Maharashtra    12442373      18414288       853     89.73  \n",
       "6   2           Delhi    11034555      16314838       876     87.59  \n",
       "7   9     Maharashtra     3124458       5049968       948     89.56  "
      ]
     },
     "execution_count": 188,
     "metadata": {},
     "output_type": "execute_result"
    }
   ],
   "source": [
    "sps_fnd_loc_lit"
   ]
  },
  {
   "cell_type": "code",
   "execution_count": 227,
   "id": "180e2354-a2e9-4a7d-a1c5-09f3d0f03abf",
   "metadata": {},
   "outputs": [
    {
     "data": {
      "text/html": [
       "<div>\n",
       "<style scoped>\n",
       "    .dataframe tbody tr th:only-of-type {\n",
       "        vertical-align: middle;\n",
       "    }\n",
       "\n",
       "    .dataframe tbody tr th {\n",
       "        vertical-align: top;\n",
       "    }\n",
       "\n",
       "    .dataframe thead th {\n",
       "        text-align: right;\n",
       "    }\n",
       "</style>\n",
       "<table border=\"1\" class=\"dataframe\">\n",
       "  <thead>\n",
       "    <tr style=\"text-align: right;\">\n",
       "      <th></th>\n",
       "      <th>City</th>\n",
       "      <th>Avg. Rating</th>\n",
       "      <th>Avg. Salary</th>\n",
       "      <th>Nr. Companies Funded</th>\n",
       "      <th>Amount($MM)</th>\n",
       "    </tr>\n",
       "  </thead>\n",
       "  <tbody>\n",
       "    <tr>\n",
       "      <th>6</th>\n",
       "      <td>New Delhi</td>\n",
       "      <td>3.943415</td>\n",
       "      <td>658756.735632</td>\n",
       "      <td>143</td>\n",
       "      <td>1673.01</td>\n",
       "    </tr>\n",
       "  </tbody>\n",
       "</table>\n",
       "</div>"
      ],
      "text/plain": [
       "        City  Avg. Rating    Avg. Salary  Nr. Companies Funded  Amount($MM)\n",
       "6  New Delhi     3.943415  658756.735632                   143      1673.01"
      ]
     },
     "execution_count": 227,
     "metadata": {},
     "output_type": "execute_result"
    }
   ],
   "source": [
    "city_1 = pippo['City'].unique()\n",
    "city_2 = sps_fnd_loc['City'].unique()\n",
    "city_missing = [x for x in city_2 if x not in city_1]\n",
    "sps_fnd_loc[sps_fnd_loc['City'].isin(city_missing)]"
   ]
  },
  {
   "cell_type": "code",
   "execution_count": 228,
   "id": "d2127818-1d00-4c64-b8fc-e3984ef8eb6f",
   "metadata": {},
   "outputs": [],
   "source": [
    "sps_fnd_loc.replace(to_replace='New Delhi', value = 'Delhi', inplace=True)"
   ]
  },
  {
   "cell_type": "code",
   "execution_count": 229,
   "id": "27572106-ce32-46f6-8248-2c736ea59324",
   "metadata": {},
   "outputs": [
    {
     "data": {
      "text/html": [
       "<div>\n",
       "<style scoped>\n",
       "    .dataframe tbody tr th:only-of-type {\n",
       "        vertical-align: middle;\n",
       "    }\n",
       "\n",
       "    .dataframe tbody tr th {\n",
       "        vertical-align: top;\n",
       "    }\n",
       "\n",
       "    .dataframe thead th {\n",
       "        text-align: right;\n",
       "    }\n",
       "</style>\n",
       "<table border=\"1\" class=\"dataframe\">\n",
       "  <thead>\n",
       "    <tr style=\"text-align: right;\">\n",
       "      <th></th>\n",
       "      <th>City</th>\n",
       "      <th>Avg. Rating</th>\n",
       "      <th>Avg. Salary</th>\n",
       "      <th>Nr. Companies Funded</th>\n",
       "      <th>Amount($MM)</th>\n",
       "    </tr>\n",
       "  </thead>\n",
       "  <tbody>\n",
       "    <tr>\n",
       "      <th>0</th>\n",
       "      <td>Bangalore</td>\n",
       "      <td>3.920232</td>\n",
       "      <td>735344.739593</td>\n",
       "      <td>425</td>\n",
       "      <td>14327.42</td>\n",
       "    </tr>\n",
       "    <tr>\n",
       "      <th>1</th>\n",
       "      <td>Chennai</td>\n",
       "      <td>3.902726</td>\n",
       "      <td>584559.661513</td>\n",
       "      <td>40</td>\n",
       "      <td>717.14</td>\n",
       "    </tr>\n",
       "    <tr>\n",
       "      <th>2</th>\n",
       "      <td>Hyderabad</td>\n",
       "      <td>3.914484</td>\n",
       "      <td>679099.157376</td>\n",
       "      <td>34</td>\n",
       "      <td>243.96</td>\n",
       "    </tr>\n",
       "    <tr>\n",
       "      <th>3</th>\n",
       "      <td>Jaipur</td>\n",
       "      <td>3.940741</td>\n",
       "      <td>629135.802469</td>\n",
       "      <td>11</td>\n",
       "      <td>343.30</td>\n",
       "    </tr>\n",
       "    <tr>\n",
       "      <th>4</th>\n",
       "      <td>Kolkata</td>\n",
       "      <td>4.024719</td>\n",
       "      <td>710925.573034</td>\n",
       "      <td>5</td>\n",
       "      <td>28.00</td>\n",
       "    </tr>\n",
       "    <tr>\n",
       "      <th>5</th>\n",
       "      <td>Mumbai</td>\n",
       "      <td>3.881709</td>\n",
       "      <td>961180.368491</td>\n",
       "      <td>200</td>\n",
       "      <td>153830.30</td>\n",
       "    </tr>\n",
       "    <tr>\n",
       "      <th>6</th>\n",
       "      <td>Delhi</td>\n",
       "      <td>3.943415</td>\n",
       "      <td>658756.735632</td>\n",
       "      <td>143</td>\n",
       "      <td>1673.01</td>\n",
       "    </tr>\n",
       "    <tr>\n",
       "      <th>7</th>\n",
       "      <td>Pune</td>\n",
       "      <td>3.886082</td>\n",
       "      <td>690476.311153</td>\n",
       "      <td>46</td>\n",
       "      <td>509.07</td>\n",
       "    </tr>\n",
       "  </tbody>\n",
       "</table>\n",
       "</div>"
      ],
      "text/plain": [
       "        City  Avg. Rating    Avg. Salary  Nr. Companies Funded  Amount($MM)\n",
       "0  Bangalore     3.920232  735344.739593                   425     14327.42\n",
       "1    Chennai     3.902726  584559.661513                    40       717.14\n",
       "2  Hyderabad     3.914484  679099.157376                    34       243.96\n",
       "3     Jaipur     3.940741  629135.802469                    11       343.30\n",
       "4    Kolkata     4.024719  710925.573034                     5        28.00\n",
       "5     Mumbai     3.881709  961180.368491                   200    153830.30\n",
       "6      Delhi     3.943415  658756.735632                   143      1673.01\n",
       "7       Pune     3.886082  690476.311153                    46       509.07"
      ]
     },
     "execution_count": 229,
     "metadata": {},
     "output_type": "execute_result"
    }
   ],
   "source": [
    "sps_fnd_loc"
   ]
  },
  {
   "cell_type": "code",
   "execution_count": 230,
   "id": "b8eb9783-3fd0-4586-8d9c-157958242496",
   "metadata": {},
   "outputs": [
    {
     "data": {
      "text/plain": [
       "<AxesSubplot:xlabel='Literacy', ylabel='Avg. Salary'>"
      ]
     },
     "execution_count": 230,
     "metadata": {},
     "output_type": "execute_result"
    },
    {
     "data": {
      "image/png": "[encoded data removed]",
      "text/plain": [
       "<Figure size 936x504 with 1 Axes>"
      ]
     },
     "metadata": {},
     "output_type": "display_data"
    }
   ],
   "source": [
    "sns.set(rc={'figure.figsize':(13, 7)})\n",
    "sns.scatterplot(x='Literacy', y='Avg. Salary', size='Population', data=sps_fnd_loc_lit)"
   ]
  },
  {
   "cell_type": "code",
   "execution_count": 240,
   "id": "156be64b-bd42-48d0-abc5-c1adb3be5152",
   "metadata": {},
   "outputs": [
    {
     "data": {
      "application/vnd.plotly.v1+json": {
       "config": {
        "plotlyServerURL": "https://plot.ly"
       },
       "data": [
        {
         "mode": "markers+text",
         "name": "citations",
         "text": [
          "Bangalore",
          "Chennai",
          "Hyderabad",
          "Jaipur",
          "Kolkata",
          "Mumbai",
          "Delhi",
          "Pune"
         ],
         "textfont": {
          "color": "#E58606"
         },
         "textposition": "top right",
         "type": "scatter",
         "x": [
          88.71,
          90.18,
          83.26,
          83.33,
          86.31,
          89.73,
          87.59,
          89.56
         ],
         "y": [
          735344.7395934173,
          584559.6615134255,
          679099.1573763152,
          629135.8024691358,
          710925.5730337079,
          961180.3684913218,
          658756.735632184,
          690476.3111527647
         ]
        }
       ],
       "layout": {
        "autosize": true,
        "template": {
         "data": {
          "bar": [
           {
            "error_x": {
             "color": "#2a3f5f"
            },
            "error_y": {
             "color": "#2a3f5f"
            },
            "marker": {
             "line": {
              "color": "#E5ECF6",
              "width": 0.5
             },
             "pattern": {
              "fillmode": "overlay",
              "size": 10,
              "solidity": 0.2
             }
            },
            "type": "bar"
           }
          ],
          "barpolar": [
           {
            "marker": {
             "line": {
              "color": "#E5ECF6",
              "width": 0.5
             },
             "pattern": {
              "fillmode": "overlay",
              "size": 10,
              "solidity": 0.2
             }
            },
            "type": "barpolar"
           }
          ],
          "carpet": [
           {
            "aaxis": {
             "endlinecolor": "#2a3f5f",
             "gridcolor": "white",
             "linecolor": "white",
             "minorgridcolor": "white",
             "startlinecolor": "#2a3f5f"
            },
            "baxis": {
             "endlinecolor": "#2a3f5f",
             "gridcolor": "white",
             "linecolor": "white",
             "minorgridcolor": "white",
             "startlinecolor": "#2a3f5f"
            },
            "type": "carpet"
           }
          ],
          "choropleth": [
           {
            "colorbar": {
             "outlinewidth": 0,
             "ticks": ""
            },
            "type": "choropleth"
           }
          ],
          "contour": [
           {
            "colorbar": {
             "outlinewidth": 0,
             "ticks": ""
            },
            "colorscale": [
             [
              0,
              "#0d0887"
             ],
             [
              0.1111111111111111,
              "#46039f"
             ],
             [
              0.2222222222222222,
              "#7201a8"
             ],
             [
              0.3333333333333333,
              "#9c179e"
             ],
             [
              0.4444444444444444,
              "#bd3786"
             ],
             [
              0.5555555555555556,
              "#d8576b"
             ],
             [
              0.6666666666666666,
              "#ed7953"
             ],
             [
              0.7777777777777778,
              "#fb9f3a"
             ],
             [
              0.8888888888888888,
              "#fdca26"
             ],
             [
              1,
              "#f0f921"
             ]
            ],
            "type": "contour"
           }
          ],
          "contourcarpet": [
           {
            "colorbar": {
             "outlinewidth": 0,
             "ticks": ""
            },
            "type": "contourcarpet"
           }
          ],
          "heatmap": [
           {
            "colorbar": {
             "outlinewidth": 0,
             "ticks": ""
            },
            "colorscale": [
             [
              0,
              "#0d0887"
             ],
             [
              0.1111111111111111,
              "#46039f"
             ],
             [
              0.2222222222222222,
              "#7201a8"
             ],
             [
              0.3333333333333333,
              "#9c179e"
             ],
             [
              0.4444444444444444,
              "#bd3786"
             ],
             [
              0.5555555555555556,
              "#d8576b"
             ],
             [
              0.6666666666666666,
              "#ed7953"
             ],
             [
              0.7777777777777778,
              "#fb9f3a"
             ],
             [
              0.8888888888888888,
              "#fdca26"
             ],
             [
              1,
              "#f0f921"
             ]
            ],
            "type": "heatmap"
           }
          ],
          "heatmapgl": [
           {
            "colorbar": {
             "outlinewidth": 0,
             "ticks": ""
            },
            "colorscale": [
             [
              0,
              "#0d0887"
             ],
             [
              0.1111111111111111,
              "#46039f"
             ],
             [
              0.2222222222222222,
              "#7201a8"
             ],
             [
              0.3333333333333333,
              "#9c179e"
             ],
             [
              0.4444444444444444,
              "#bd3786"
             ],
             [
              0.5555555555555556,
              "#d8576b"
             ],
             [
              0.6666666666666666,
              "#ed7953"
             ],
             [
              0.7777777777777778,
              "#fb9f3a"
             ],
             [
              0.8888888888888888,
              "#fdca26"
             ],
             [
              1,
              "#f0f921"
             ]
            ],
            "type": "heatmapgl"
           }
          ],
          "histogram": [
           {
            "marker": {
             "pattern": {
              "fillmode": "overlay",
              "size": 10,
              "solidity": 0.2
             }
            },
            "type": "histogram"
           }
          ],
          "histogram2d": [
           {
            "colorbar": {
             "outlinewidth": 0,
             "ticks": ""
            },
            "colorscale": [
             [
              0,
              "#0d0887"
             ],
             [
              0.1111111111111111,
              "#46039f"
             ],
             [
              0.2222222222222222,
              "#7201a8"
             ],
             [
              0.3333333333333333,
              "#9c179e"
             ],
             [
              0.4444444444444444,
              "#bd3786"
             ],
             [
              0.5555555555555556,
              "#d8576b"
             ],
             [
              0.6666666666666666,
              "#ed7953"
             ],
             [
              0.7777777777777778,
              "#fb9f3a"
             ],
             [
              0.8888888888888888,
              "#fdca26"
             ],
             [
              1,
              "#f0f921"
             ]
            ],
            "type": "histogram2d"
           }
          ],
          "histogram2dcontour": [
           {
            "colorbar": {
             "outlinewidth": 0,
             "ticks": ""
            },
            "colorscale": [
             [
              0,
              "#0d0887"
             ],
             [
              0.1111111111111111,
              "#46039f"
             ],
             [
              0.2222222222222222,
              "#7201a8"
             ],
             [
              0.3333333333333333,
              "#9c179e"
             ],
             [
              0.4444444444444444,
              "#bd3786"
             ],
             [
              0.5555555555555556,
              "#d8576b"
             ],
             [
              0.6666666666666666,
              "#ed7953"
             ],
             [
              0.7777777777777778,
              "#fb9f3a"
             ],
             [
              0.8888888888888888,
              "#fdca26"
             ],
             [
              1,
              "#f0f921"
             ]
            ],
            "type": "histogram2dcontour"
           }
          ],
          "mesh3d": [
           {
            "colorbar": {
             "outlinewidth": 0,
             "ticks": ""
            },
            "type": "mesh3d"
           }
          ],
          "parcoords": [
           {
            "line": {
             "colorbar": {
              "outlinewidth": 0,
              "ticks": ""
             }
            },
            "type": "parcoords"
           }
          ],
          "pie": [
           {
            "automargin": true,
            "type": "pie"
           }
          ],
          "scatter": [
           {
            "fillpattern": {
             "fillmode": "overlay",
             "size": 10,
             "solidity": 0.2
            },
            "type": "scatter"
           }
          ],
          "scatter3d": [
           {
            "line": {
             "colorbar": {
              "outlinewidth": 0,
              "ticks": ""
             }
            },
            "marker": {
             "colorbar": {
              "outlinewidth": 0,
              "ticks": ""
             }
            },
            "type": "scatter3d"
           }
          ],
          "scattercarpet": [
           {
            "marker": {
             "colorbar": {
              "outlinewidth": 0,
              "ticks": ""
             }
            },
            "type": "scattercarpet"
           }
          ],
          "scattergeo": [
           {
            "marker": {
             "colorbar": {
              "outlinewidth": 0,
              "ticks": ""
             }
            },
            "type": "scattergeo"
           }
          ],
          "scattergl": [
           {
            "marker": {
             "colorbar": {
              "outlinewidth": 0,
              "ticks": ""
             }
            },
            "type": "scattergl"
           }
          ],
          "scattermapbox": [
           {
            "marker": {
             "colorbar": {
              "outlinewidth": 0,
              "ticks": ""
             }
            },
            "type": "scattermapbox"
           }
          ],
          "scatterpolar": [
           {
            "marker": {
             "colorbar": {
              "outlinewidth": 0,
              "ticks": ""
             }
            },
            "type": "scatterpolar"
           }
          ],
          "scatterpolargl": [
           {
            "marker": {
             "colorbar": {
              "outlinewidth": 0,
              "ticks": ""
             }
            },
            "type": "scatterpolargl"
           }
          ],
          "scatterternary": [
           {
            "marker": {
             "colorbar": {
              "outlinewidth": 0,
              "ticks": ""
             }
            },
            "type": "scatterternary"
           }
          ],
          "surface": [
           {
            "colorbar": {
             "outlinewidth": 0,
             "ticks": ""
            },
            "colorscale": [
             [
              0,
              "#0d0887"
             ],
             [
              0.1111111111111111,
              "#46039f"
             ],
             [
              0.2222222222222222,
              "#7201a8"
             ],
             [
              0.3333333333333333,
              "#9c179e"
             ],
             [
              0.4444444444444444,
              "#bd3786"
             ],
             [
              0.5555555555555556,
              "#d8576b"
             ],
             [
              0.6666666666666666,
              "#ed7953"
             ],
             [
              0.7777777777777778,
              "#fb9f3a"
             ],
             [
              0.8888888888888888,
              "#fdca26"
             ],
             [
              1,
              "#f0f921"
             ]
            ],
            "type": "surface"
           }
          ],
          "table": [
           {
            "cells": {
             "fill": {
              "color": "#EBF0F8"
             },
             "line": {
              "color": "white"
             }
            },
            "header": {
             "fill": {
              "color": "#C8D4E3"
             },
             "line": {
              "color": "white"
             }
            },
            "type": "table"
           }
          ]
         },
         "layout": {
          "annotationdefaults": {
           "arrowcolor": "#2a3f5f",
           "arrowhead": 0,
           "arrowwidth": 1
          },
          "autotypenumbers": "strict",
          "coloraxis": {
           "colorbar": {
            "outlinewidth": 0,
            "ticks": ""
           }
          },
          "colorscale": {
           "diverging": [
            [
             0,
             "#8e0152"
            ],
            [
             0.1,
             "#c51b7d"
            ],
            [
             0.2,
             "#de77ae"
            ],
            [
             0.3,
             "#f1b6da"
            ],
            [
             0.4,
             "#fde0ef"
            ],
            [
             0.5,
             "#f7f7f7"
            ],
            [
             0.6,
             "#e6f5d0"
            ],
            [
             0.7,
             "#b8e186"
            ],
            [
             0.8,
             "#7fbc41"
            ],
            [
             0.9,
             "#4d9221"
            ],
            [
             1,
             "#276419"
            ]
           ],
           "sequential": [
            [
             0,
             "#0d0887"
            ],
            [
             0.1111111111111111,
             "#46039f"
            ],
            [
             0.2222222222222222,
             "#7201a8"
            ],
            [
             0.3333333333333333,
             "#9c179e"
            ],
            [
             0.4444444444444444,
             "#bd3786"
            ],
            [
             0.5555555555555556,
             "#d8576b"
            ],
            [
             0.6666666666666666,
             "#ed7953"
            ],
            [
             0.7777777777777778,
             "#fb9f3a"
            ],
            [
             0.8888888888888888,
             "#fdca26"
            ],
            [
             1,
             "#f0f921"
            ]
           ],
           "sequentialminus": [
            [
             0,
             "#0d0887"
            ],
            [
             0.1111111111111111,
             "#46039f"
            ],
            [
             0.2222222222222222,
             "#7201a8"
            ],
            [
             0.3333333333333333,
             "#9c179e"
            ],
            [
             0.4444444444444444,
             "#bd3786"
            ],
            [
             0.5555555555555556,
             "#d8576b"
            ],
            [
             0.6666666666666666,
             "#ed7953"
            ],
            [
             0.7777777777777778,
             "#fb9f3a"
            ],
            [
             0.8888888888888888,
             "#fdca26"
            ],
            [
             1,
             "#f0f921"
            ]
           ]
          },
          "colorway": [
           "#636efa",
           "#EF553B",
           "#00cc96",
           "#ab63fa",
           "#FFA15A",
           "#19d3f3",
           "#FF6692",
           "#B6E880",
           "#FF97FF",
           "#FECB52"
          ],
          "font": {
           "color": "#2a3f5f"
          },
          "geo": {
           "bgcolor": "white",
           "lakecolor": "white",
           "landcolor": "#E5ECF6",
           "showlakes": true,
           "showland": true,
           "subunitcolor": "white"
          },
          "hoverlabel": {
           "align": "left"
          },
          "hovermode": "closest",
          "mapbox": {
           "style": "light"
          },
          "paper_bgcolor": "white",
          "plot_bgcolor": "#E5ECF6",
          "polar": {
           "angularaxis": {
            "gridcolor": "white",
            "linecolor": "white",
            "ticks": ""
           },
           "bgcolor": "#E5ECF6",
           "radialaxis": {
            "gridcolor": "white",
            "linecolor": "white",
            "ticks": ""
           }
          },
          "scene": {
           "xaxis": {
            "backgroundcolor": "#E5ECF6",
            "gridcolor": "white",
            "gridwidth": 2,
            "linecolor": "white",
            "showbackground": true,
            "ticks": "",
            "zerolinecolor": "white"
           },
           "yaxis": {
            "backgroundcolor": "#E5ECF6",
            "gridcolor": "white",
            "gridwidth": 2,
            "linecolor": "white",
            "showbackground": true,
            "ticks": "",
            "zerolinecolor": "white"
           },
           "zaxis": {
            "backgroundcolor": "#E5ECF6",
            "gridcolor": "white",
            "gridwidth": 2,
            "linecolor": "white",
            "showbackground": true,
            "ticks": "",
            "zerolinecolor": "white"
           }
          },
          "shapedefaults": {
           "line": {
            "color": "#2a3f5f"
           }
          },
          "ternary": {
           "aaxis": {
            "gridcolor": "white",
            "linecolor": "white",
            "ticks": ""
           },
           "baxis": {
            "gridcolor": "white",
            "linecolor": "white",
            "ticks": ""
           },
           "bgcolor": "#E5ECF6",
           "caxis": {
            "gridcolor": "white",
            "linecolor": "white",
            "ticks": ""
           }
          },
          "title": {
           "x": 0.05
          },
          "xaxis": {
           "automargin": true,
           "gridcolor": "white",
           "linecolor": "white",
           "ticks": "",
           "title": {
            "standoff": 15
           },
           "zerolinecolor": "white",
           "zerolinewidth": 2
          },
          "yaxis": {
           "automargin": true,
           "gridcolor": "white",
           "linecolor": "white",
           "ticks": "",
           "title": {
            "standoff": 15
           },
           "zerolinecolor": "white",
           "zerolinewidth": 2
          }
         }
        },
        "xaxis": {
         "autorange": true,
         "range": [
          82.83740108508668,
          90.60259891491333
         ],
         "type": "linear"
        },
        "yaxis": {
         "autorange": true,
         "range": [
          553479.3119084535,
          992260.7180962939
         ],
         "type": "linear"
        }
       }
      },
      "image/png": "[encoded data removed]",
      "text/html": [
       "<div>                            <div id=\"3f191224-5256-49c2-b5cd-e9b7c0bf5550\" class=\"plotly-graph-div\" style=\"height:525px; width:100%;\"></div>            <script type=\"text/javascript\">                require([\"plotly\"], function(Plotly) {                    window.PLOTLYENV=window.PLOTLYENV || {};                                    if (document.getElementById(\"3f191224-5256-49c2-b5cd-e9b7c0bf5550\")) {                    Plotly.newPlot(                        \"3f191224-5256-49c2-b5cd-e9b7c0bf5550\",                        [{\"mode\":\"markers+text\",\"name\":\"citations\",\"text\":[\"Bangalore\",\"Chennai\",\"Hyderabad\",\"Jaipur\",\"Kolkata\",\"Mumbai\",\"Delhi\",\"Pune\"],\"textfont\":{\"color\":\"#E58606\"},\"textposition\":\"top right\",\"x\":[88.71,90.18,83.26,83.33,86.31,89.73,87.59,89.56],\"y\":[735344.7395934173,584559.6615134255,679099.1573763152,629135.8024691358,710925.5730337079,961180.3684913218,658756.735632184,690476.3111527647],\"type\":\"scatter\"}],                        {\"template\":{\"data\":{\"histogram2dcontour\":[{\"type\":\"histogram2dcontour\",\"colorbar\":{\"outlinewidth\":0,\"ticks\":\"\"},\"colorscale\":[[0.0,\"#0d0887\"],[0.1111111111111111,\"#46039f\"],[0.2222222222222222,\"#7201a8\"],[0.3333333333333333,\"#9c179e\"],[0.4444444444444444,\"#bd3786\"],[0.5555555555555556,\"#d8576b\"],[0.6666666666666666,\"#ed7953\"],[0.7777777777777778,\"#fb9f3a\"],[0.8888888888888888,\"#fdca26\"],[1.0,\"#f0f921\"]]}],\"choropleth\":[{\"type\":\"choropleth\",\"colorbar\":{\"outlinewidth\":0,\"ticks\":\"\"}}],\"histogram2d\":[{\"type\":\"histogram2d\",\"colorbar\":{\"outlinewidth\":0,\"ticks\":\"\"},\"colorscale\":[[0.0,\"#0d0887\"],[0.1111111111111111,\"#46039f\"],[0.2222222222222222,\"#7201a8\"],[0.3333333333333333,\"#9c179e\"],[0.4444444444444444,\"#bd3786\"],[0.5555555555555556,\"#d8576b\"],[0.6666666666666666,\"#ed7953\"],[0.7777777777777778,\"#fb9f3a\"],[0.8888888888888888,\"#fdca26\"],[1.0,\"#f0f921\"]]}],\"heatmap\":[{\"type\":\"heatmap\",\"colorbar\":{\"outlinewidth\":0,\"ticks\":\"\"},\"colorscale\":[[0.0,\"#0d0887\"],[0.1111111111111111,\"#46039f\"],[0.2222222222222222,\"#7201a8\"],[0.3333333333333333,\"#9c179e\"],[0.4444444444444444,\"#bd3786\"],[0.5555555555555556,\"#d8576b\"],[0.6666666666666666,\"#ed7953\"],[0.7777777777777778,\"#fb9f3a\"],[0.8888888888888888,\"#fdca26\"],[1.0,\"#f0f921\"]]}],\"heatmapgl\":[{\"type\":\"heatmapgl\",\"colorbar\":{\"outlinewidth\":0,\"ticks\":\"\"},\"colorscale\":[[0.0,\"#0d0887\"],[0.1111111111111111,\"#46039f\"],[0.2222222222222222,\"#7201a8\"],[0.3333333333333333,\"#9c179e\"],[0.4444444444444444,\"#bd3786\"],[0.5555555555555556,\"#d8576b\"],[0.6666666666666666,\"#ed7953\"],[0.7777777777777778,\"#fb9f3a\"],[0.8888888888888888,\"#fdca26\"],[1.0,\"#f0f921\"]]}],\"contourcarpet\":[{\"type\":\"contourcarpet\",\"colorbar\":{\"outlinewidth\":0,\"ticks\":\"\"}}],\"contour\":[{\"type\":\"contour\",\"colorbar\":{\"outlinewidth\":0,\"ticks\":\"\"},\"colorscale\":[[0.0,\"#0d0887\"],[0.1111111111111111,\"#46039f\"],[0.2222222222222222,\"#7201a8\"],[0.3333333333333333,\"#9c179e\"],[0.4444444444444444,\"#bd3786\"],[0.5555555555555556,\"#d8576b\"],[0.6666666666666666,\"#ed7953\"],[0.7777777777777778,\"#fb9f3a\"],[0.8888888888888888,\"#fdca26\"],[1.0,\"#f0f921\"]]}],\"surface\":[{\"type\":\"surface\",\"colorbar\":{\"outlinewidth\":0,\"ticks\":\"\"},\"colorscale\":[[0.0,\"#0d0887\"],[0.1111111111111111,\"#46039f\"],[0.2222222222222222,\"#7201a8\"],[0.3333333333333333,\"#9c179e\"],[0.4444444444444444,\"#bd3786\"],[0.5555555555555556,\"#d8576b\"],[0.6666666666666666,\"#ed7953\"],[0.7777777777777778,\"#fb9f3a\"],[0.8888888888888888,\"#fdca26\"],[1.0,\"#f0f921\"]]}],\"mesh3d\":[{\"type\":\"mesh3d\",\"colorbar\":{\"outlinewidth\":0,\"ticks\":\"\"}}],\"scatter\":[{\"fillpattern\":{\"fillmode\":\"overlay\",\"size\":10,\"solidity\":0.2},\"type\":\"scatter\"}],\"parcoords\":[{\"type\":\"parcoords\",\"line\":{\"colorbar\":{\"outlinewidth\":0,\"ticks\":\"\"}}}],\"scatterpolargl\":[{\"type\":\"scatterpolargl\",\"marker\":{\"colorbar\":{\"outlinewidth\":0,\"ticks\":\"\"}}}],\"bar\":[{\"error_x\":{\"color\":\"#2a3f5f\"},\"error_y\":{\"color\":\"#2a3f5f\"},\"marker\":{\"line\":{\"color\":\"#E5ECF6\",\"width\":0.5},\"pattern\":{\"fillmode\":\"overlay\",\"size\":10,\"solidity\":0.2}},\"type\":\"bar\"}],\"scattergeo\":[{\"type\":\"scattergeo\",\"marker\":{\"colorbar\":{\"outlinewidth\":0,\"ticks\":\"\"}}}],\"scatterpolar\":[{\"type\":\"scatterpolar\",\"marker\":{\"colorbar\":{\"outlinewidth\":0,\"ticks\":\"\"}}}],\"histogram\":[{\"marker\":{\"pattern\":{\"fillmode\":\"overlay\",\"size\":10,\"solidity\":0.2}},\"type\":\"histogram\"}],\"scattergl\":[{\"type\":\"scattergl\",\"marker\":{\"colorbar\":{\"outlinewidth\":0,\"ticks\":\"\"}}}],\"scatter3d\":[{\"type\":\"scatter3d\",\"line\":{\"colorbar\":{\"outlinewidth\":0,\"ticks\":\"\"}},\"marker\":{\"colorbar\":{\"outlinewidth\":0,\"ticks\":\"\"}}}],\"scattermapbox\":[{\"type\":\"scattermapbox\",\"marker\":{\"colorbar\":{\"outlinewidth\":0,\"ticks\":\"\"}}}],\"scatterternary\":[{\"type\":\"scatterternary\",\"marker\":{\"colorbar\":{\"outlinewidth\":0,\"ticks\":\"\"}}}],\"scattercarpet\":[{\"type\":\"scattercarpet\",\"marker\":{\"colorbar\":{\"outlinewidth\":0,\"ticks\":\"\"}}}],\"carpet\":[{\"aaxis\":{\"endlinecolor\":\"#2a3f5f\",\"gridcolor\":\"white\",\"linecolor\":\"white\",\"minorgridcolor\":\"white\",\"startlinecolor\":\"#2a3f5f\"},\"baxis\":{\"endlinecolor\":\"#2a3f5f\",\"gridcolor\":\"white\",\"linecolor\":\"white\",\"minorgridcolor\":\"white\",\"startlinecolor\":\"#2a3f5f\"},\"type\":\"carpet\"}],\"table\":[{\"cells\":{\"fill\":{\"color\":\"#EBF0F8\"},\"line\":{\"color\":\"white\"}},\"header\":{\"fill\":{\"color\":\"#C8D4E3\"},\"line\":{\"color\":\"white\"}},\"type\":\"table\"}],\"barpolar\":[{\"marker\":{\"line\":{\"color\":\"#E5ECF6\",\"width\":0.5},\"pattern\":{\"fillmode\":\"overlay\",\"size\":10,\"solidity\":0.2}},\"type\":\"barpolar\"}],\"pie\":[{\"automargin\":true,\"type\":\"pie\"}]},\"layout\":{\"autotypenumbers\":\"strict\",\"colorway\":[\"#636efa\",\"#EF553B\",\"#00cc96\",\"#ab63fa\",\"#FFA15A\",\"#19d3f3\",\"#FF6692\",\"#B6E880\",\"#FF97FF\",\"#FECB52\"],\"font\":{\"color\":\"#2a3f5f\"},\"hovermode\":\"closest\",\"hoverlabel\":{\"align\":\"left\"},\"paper_bgcolor\":\"white\",\"plot_bgcolor\":\"#E5ECF6\",\"polar\":{\"bgcolor\":\"#E5ECF6\",\"angularaxis\":{\"gridcolor\":\"white\",\"linecolor\":\"white\",\"ticks\":\"\"},\"radialaxis\":{\"gridcolor\":\"white\",\"linecolor\":\"white\",\"ticks\":\"\"}},\"ternary\":{\"bgcolor\":\"#E5ECF6\",\"aaxis\":{\"gridcolor\":\"white\",\"linecolor\":\"white\",\"ticks\":\"\"},\"baxis\":{\"gridcolor\":\"white\",\"linecolor\":\"white\",\"ticks\":\"\"},\"caxis\":{\"gridcolor\":\"white\",\"linecolor\":\"white\",\"ticks\":\"\"}},\"coloraxis\":{\"colorbar\":{\"outlinewidth\":0,\"ticks\":\"\"}},\"colorscale\":{\"sequential\":[[0.0,\"#0d0887\"],[0.1111111111111111,\"#46039f\"],[0.2222222222222222,\"#7201a8\"],[0.3333333333333333,\"#9c179e\"],[0.4444444444444444,\"#bd3786\"],[0.5555555555555556,\"#d8576b\"],[0.6666666666666666,\"#ed7953\"],[0.7777777777777778,\"#fb9f3a\"],[0.8888888888888888,\"#fdca26\"],[1.0,\"#f0f921\"]],\"sequentialminus\":[[0.0,\"#0d0887\"],[0.1111111111111111,\"#46039f\"],[0.2222222222222222,\"#7201a8\"],[0.3333333333333333,\"#9c179e\"],[0.4444444444444444,\"#bd3786\"],[0.5555555555555556,\"#d8576b\"],[0.6666666666666666,\"#ed7953\"],[0.7777777777777778,\"#fb9f3a\"],[0.8888888888888888,\"#fdca26\"],[1.0,\"#f0f921\"]],\"diverging\":[[0,\"#8e0152\"],[0.1,\"#c51b7d\"],[0.2,\"#de77ae\"],[0.3,\"#f1b6da\"],[0.4,\"#fde0ef\"],[0.5,\"#f7f7f7\"],[0.6,\"#e6f5d0\"],[0.7,\"#b8e186\"],[0.8,\"#7fbc41\"],[0.9,\"#4d9221\"],[1,\"#276419\"]]},\"xaxis\":{\"gridcolor\":\"white\",\"linecolor\":\"white\",\"ticks\":\"\",\"title\":{\"standoff\":15},\"zerolinecolor\":\"white\",\"automargin\":true,\"zerolinewidth\":2},\"yaxis\":{\"gridcolor\":\"white\",\"linecolor\":\"white\",\"ticks\":\"\",\"title\":{\"standoff\":15},\"zerolinecolor\":\"white\",\"automargin\":true,\"zerolinewidth\":2},\"scene\":{\"xaxis\":{\"backgroundcolor\":\"#E5ECF6\",\"gridcolor\":\"white\",\"linecolor\":\"white\",\"showbackground\":true,\"ticks\":\"\",\"zerolinecolor\":\"white\",\"gridwidth\":2},\"yaxis\":{\"backgroundcolor\":\"#E5ECF6\",\"gridcolor\":\"white\",\"linecolor\":\"white\",\"showbackground\":true,\"ticks\":\"\",\"zerolinecolor\":\"white\",\"gridwidth\":2},\"zaxis\":{\"backgroundcolor\":\"#E5ECF6\",\"gridcolor\":\"white\",\"linecolor\":\"white\",\"showbackground\":true,\"ticks\":\"\",\"zerolinecolor\":\"white\",\"gridwidth\":2}},\"shapedefaults\":{\"line\":{\"color\":\"#2a3f5f\"}},\"annotationdefaults\":{\"arrowcolor\":\"#2a3f5f\",\"arrowhead\":0,\"arrowwidth\":1},\"geo\":{\"bgcolor\":\"white\",\"landcolor\":\"#E5ECF6\",\"subunitcolor\":\"white\",\"showland\":true,\"showlakes\":true,\"lakecolor\":\"white\"},\"title\":{\"x\":0.05},\"mapbox\":{\"style\":\"light\"}}}},                        {\"responsive\": true}                    ).then(function(){\n",
       "                            \n",
       "var gd = document.getElementById('3f191224-5256-49c2-b5cd-e9b7c0bf5550');\n",
       "var x = new MutationObserver(function (mutations, observer) {{\n",
       "        var display = window.getComputedStyle(gd).display;\n",
       "        if (!display || display === 'none') {{\n",
       "            console.log([gd, 'removed!']);\n",
       "            Plotly.purge(gd);\n",
       "            observer.disconnect();\n",
       "        }}\n",
       "}});\n",
       "\n",
       "// Listen for the removal of the full notebook cells\n",
       "var notebookContainer = gd.closest('#notebook-container');\n",
       "if (notebookContainer) {{\n",
       "    x.observe(notebookContainer, {childList: true});\n",
       "}}\n",
       "\n",
       "// Listen for the clearing of the current output cell\n",
       "var outputEl = gd.closest('.output');\n",
       "if (outputEl) {{\n",
       "    x.observe(outputEl, {childList: true});\n",
       "}}\n",
       "\n",
       "                        })                };                });            </script>        </div>"
      ]
     },
     "metadata": {},
     "output_type": "display_data"
    }
   ],
   "source": [
    "import plotly.graph_objects as go\n",
    "data = go.Scatter(x=sps_fnd_loc_lit['Literacy'],\n",
    "                  y=sps_fnd_loc_lit['Avg. Salary'],\n",
    "                  text=sps_fnd_loc_lit['City'],\n",
    "                  textposition='top right',\n",
    "                  textfont=dict(color='#E58606'),\n",
    "                  mode='markers+text',\n",
    "                  name='citations')\n",
    "\n",
    "fig = go.Figure(data=data)\n",
    "\n",
    "fig.show()"
   ]
  },
  {
   "cell_type": "code",
   "execution_count": null,
   "id": "366de947-03e5-4f18-aba5-eba8d9acd333",
   "metadata": {},
   "outputs": [],
   "source": []
  }
 ],
 "metadata": {
  "kernelspec": {
   "display_name": "Python 3 (ipykernel)",
   "language": "python",
   "name": "python3"
  },
  "language_info": {
   "codemirror_mode": {
    "name": "ipython",
    "version": 3
   },
   "file_extension": ".py",
   "mimetype": "text/x-python",
   "name": "python",
   "nbconvert_exporter": "python",
   "pygments_lexer": "ipython3",
   "version": "3.9.12"
  }
 },
 "nbformat": 4,
 "nbformat_minor": 5
}
