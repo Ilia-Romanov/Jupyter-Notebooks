{
 "cells": [
  {
   "cell_type": "markdown",
   "id": "fced9a7c-bf3f-478c-9860-5d24a88b172b",
   "metadata": {},
   "source": [
    "# 4.19.x Final Assignment"
   ]
  },
  {
   "cell_type": "code",
   "execution_count": 1,
   "id": "734a815f-7e3e-4032-9721-eb5409fbc523",
   "metadata": {},
   "outputs": [],
   "source": [
    "import numpy as np\n",
    "import pandas as pd\n",
    "\n",
    "import matplotlib.pyplot as plt\n",
    "import seaborn as sns\n",
    "sns.set_theme()\n",
    "sns.set(rc={'figure.figsize':(15, 9)})\n",
    "sns.set(font_scale=1.5) "
   ]
  },
  {
   "cell_type": "code",
   "execution_count": 22,
   "id": "cc2b22c9-36fd-445d-83bc-2980875cd6bf",
   "metadata": {},
   "outputs": [],
   "source": [
    "pd.set_option('display.max_rows', 500)"
   ]
  },
  {
   "cell_type": "markdown",
   "id": "7b2d5563-e2df-4934-b313-c15a3fc6e6d2",
   "metadata": {},
   "source": [
    "### Part 1\n",
    "\n",
    "The `food_consumption.csv` dataset from the `food` folder contains data on the several countries' food consumption per food category and their respective CO2 emissions. Load it to a DataFrame named `food` and check its contents."
   ]
  },
  {
   "cell_type": "code",
   "execution_count": 5,
   "id": "dfd5da95-6fdd-4f31-acb8-9c6e1a424df7",
   "metadata": {},
   "outputs": [],
   "source": [
    "df = pd.read_csv(\"data/food_consumption.csv\")"
   ]
  },
  {
   "cell_type": "code",
   "execution_count": 8,
   "id": "da3f73d6-fb0c-4997-af09-906e1f9986d6",
   "metadata": {},
   "outputs": [
    {
     "data": {
      "text/html": [
       "<div>\n",
       "<style scoped>\n",
       "    .dataframe tbody tr th:only-of-type {\n",
       "        vertical-align: middle;\n",
       "    }\n",
       "\n",
       "    .dataframe tbody tr th {\n",
       "        vertical-align: top;\n",
       "    }\n",
       "\n",
       "    .dataframe thead th {\n",
       "        text-align: right;\n",
       "    }\n",
       "</style>\n",
       "<table border=\"1\" class=\"dataframe\">\n",
       "  <thead>\n",
       "    <tr style=\"text-align: right;\">\n",
       "      <th></th>\n",
       "      <th>country</th>\n",
       "      <th>food_category</th>\n",
       "      <th>consumption</th>\n",
       "      <th>co2_emission</th>\n",
       "    </tr>\n",
       "  </thead>\n",
       "  <tbody>\n",
       "    <tr>\n",
       "      <th>0</th>\n",
       "      <td>Argentina</td>\n",
       "      <td>pork</td>\n",
       "      <td>10.51</td>\n",
       "      <td>37.20</td>\n",
       "    </tr>\n",
       "    <tr>\n",
       "      <th>1</th>\n",
       "      <td>Argentina</td>\n",
       "      <td>poultry</td>\n",
       "      <td>38.66</td>\n",
       "      <td>41.53</td>\n",
       "    </tr>\n",
       "    <tr>\n",
       "      <th>2</th>\n",
       "      <td>Argentina</td>\n",
       "      <td>beef</td>\n",
       "      <td>55.48</td>\n",
       "      <td>1712.00</td>\n",
       "    </tr>\n",
       "    <tr>\n",
       "      <th>3</th>\n",
       "      <td>Argentina</td>\n",
       "      <td>lamb_goat</td>\n",
       "      <td>1.56</td>\n",
       "      <td>54.63</td>\n",
       "    </tr>\n",
       "    <tr>\n",
       "      <th>4</th>\n",
       "      <td>Argentina</td>\n",
       "      <td>fish</td>\n",
       "      <td>4.36</td>\n",
       "      <td>6.96</td>\n",
       "    </tr>\n",
       "    <tr>\n",
       "      <th>...</th>\n",
       "      <td>...</td>\n",
       "      <td>...</td>\n",
       "      <td>...</td>\n",
       "      <td>...</td>\n",
       "    </tr>\n",
       "    <tr>\n",
       "      <th>1425</th>\n",
       "      <td>Bangladesh</td>\n",
       "      <td>dairy</td>\n",
       "      <td>21.91</td>\n",
       "      <td>31.21</td>\n",
       "    </tr>\n",
       "    <tr>\n",
       "      <th>1426</th>\n",
       "      <td>Bangladesh</td>\n",
       "      <td>wheat</td>\n",
       "      <td>17.47</td>\n",
       "      <td>3.33</td>\n",
       "    </tr>\n",
       "    <tr>\n",
       "      <th>1427</th>\n",
       "      <td>Bangladesh</td>\n",
       "      <td>rice</td>\n",
       "      <td>171.73</td>\n",
       "      <td>219.76</td>\n",
       "    </tr>\n",
       "    <tr>\n",
       "      <th>1428</th>\n",
       "      <td>Bangladesh</td>\n",
       "      <td>soybeans</td>\n",
       "      <td>0.61</td>\n",
       "      <td>0.27</td>\n",
       "    </tr>\n",
       "    <tr>\n",
       "      <th>1429</th>\n",
       "      <td>Bangladesh</td>\n",
       "      <td>nuts</td>\n",
       "      <td>0.72</td>\n",
       "      <td>1.27</td>\n",
       "    </tr>\n",
       "  </tbody>\n",
       "</table>\n",
       "<p>1430 rows × 4 columns</p>\n",
       "</div>"
      ],
      "text/plain": [
       "         country food_category  consumption  co2_emission\n",
       "0      Argentina          pork        10.51         37.20\n",
       "1      Argentina       poultry        38.66         41.53\n",
       "2      Argentina          beef        55.48       1712.00\n",
       "3      Argentina     lamb_goat         1.56         54.63\n",
       "4      Argentina          fish         4.36          6.96\n",
       "...          ...           ...          ...           ...\n",
       "1425  Bangladesh         dairy        21.91         31.21\n",
       "1426  Bangladesh         wheat        17.47          3.33\n",
       "1427  Bangladesh          rice       171.73        219.76\n",
       "1428  Bangladesh      soybeans         0.61          0.27\n",
       "1429  Bangladesh          nuts         0.72          1.27\n",
       "\n",
       "[1430 rows x 4 columns]"
      ]
     },
     "execution_count": 8,
     "metadata": {},
     "output_type": "execute_result"
    }
   ],
   "source": [
    "df"
   ]
  },
  {
   "cell_type": "code",
   "execution_count": 13,
   "id": "b78e2f95-d15c-4cee-bace-34e5c9499b43",
   "metadata": {},
   "outputs": [
    {
     "data": {
      "text/plain": [
       "array(['pork', 'poultry', 'beef', 'lamb_goat', 'fish', 'eggs', 'dairy',\n",
       "       'wheat', 'rice', 'soybeans', 'nuts'], dtype=object)"
      ]
     },
     "execution_count": 13,
     "metadata": {},
     "output_type": "execute_result"
    }
   ],
   "source": [
    "df['food_category'].unique()"
   ]
  },
  {
   "cell_type": "code",
   "execution_count": 12,
   "id": "eecb476a-b911-4a06-8763-275fb4896f06",
   "metadata": {},
   "outputs": [
    {
     "data": {
      "text/plain": [
       "False"
      ]
     },
     "execution_count": 12,
     "metadata": {},
     "output_type": "execute_result"
    }
   ],
   "source": [
    "df.isnull().values.any()"
   ]
  },
  {
   "cell_type": "code",
   "execution_count": 14,
   "id": "f3eb9d1b-aa32-4914-bca2-0e32e6d590d5",
   "metadata": {},
   "outputs": [
    {
     "name": "stdout",
     "output_type": "stream",
     "text": [
      "<class 'pandas.core.frame.DataFrame'>\n",
      "RangeIndex: 1430 entries, 0 to 1429\n",
      "Data columns (total 4 columns):\n",
      " #   Column         Non-Null Count  Dtype  \n",
      "---  ------         --------------  -----  \n",
      " 0   country        1430 non-null   object \n",
      " 1   food_category  1430 non-null   object \n",
      " 2   consumption    1430 non-null   float64\n",
      " 3   co2_emission   1430 non-null   float64\n",
      "dtypes: float64(2), object(2)\n",
      "memory usage: 44.8+ KB\n"
     ]
    }
   ],
   "source": [
    "df.info()"
   ]
  },
  {
   "cell_type": "markdown",
   "id": "472b304f-f6f4-4a5b-a662-71e0250b2cce",
   "metadata": {},
   "source": [
    "1. Use the `.describe()` method on the `food` DataFrame to produce descriptive statistics about the `consumption` metric for each class in the `food_category` variable. **Which `food_category` has the highest median value of `food_consumption`?** "
   ]
  },
  {
   "cell_type": "code",
   "execution_count": 23,
   "id": "2e8dad5d-eff2-4aea-8ee6-8013d526cc48",
   "metadata": {},
   "outputs": [
    {
     "data": {
      "text/plain": [
       "                     food_category\n",
       "consumption   count  beef              130.000000\n",
       "                     dairy             130.000000\n",
       "                     eggs              130.000000\n",
       "                     fish              130.000000\n",
       "                     lamb_goat         130.000000\n",
       "                     nuts              130.000000\n",
       "                     pork              130.000000\n",
       "                     poultry           130.000000\n",
       "                     rice              130.000000\n",
       "                     soybeans          130.000000\n",
       "                     wheat             130.000000\n",
       "              mean   beef               12.123385\n",
       "                     dairy             125.774692\n",
       "                     eggs                8.163769\n",
       "                     fish               17.287077\n",
       "                     lamb_goat           2.600154\n",
       "                     nuts                4.137231\n",
       "                     pork               16.123692\n",
       "                     poultry            21.219231\n",
       "                     rice               29.375154\n",
       "                     soybeans            0.860538\n",
       "                     wheat              71.549538\n",
       "              std    beef                9.654140\n",
       "                     dairy              93.327721\n",
       "                     eggs                5.032582\n",
       "                     fish               19.013508\n",
       "                     lamb_goat           3.665252\n",
       "                     nuts                3.372817\n",
       "                     pork               15.717646\n",
       "                     poultry            14.571980\n",
       "                     rice               37.324471\n",
       "                     soybeans            2.083336\n",
       "                     wheat              44.191318\n",
       "              min    beef                0.780000\n",
       "                     dairy               3.040000\n",
       "                     eggs                0.160000\n",
       "                     fish                0.240000\n",
       "                     lamb_goat           0.000000\n",
       "                     nuts                0.180000\n",
       "                     pork                0.000000\n",
       "                     poultry             0.470000\n",
       "                     rice                0.950000\n",
       "                     soybeans            0.000000\n",
       "                     wheat               2.740000\n",
       "              25%    beef                4.997500\n",
       "                     dairy              45.792500\n",
       "                     eggs                3.945000\n",
       "                     fish                6.025000\n",
       "                     lamb_goat           0.560000\n",
       "                     nuts                1.805000\n",
       "                     pork                2.090000\n",
       "                     poultry            10.910000\n",
       "                     rice                4.720000\n",
       "                     soybeans            0.010000\n",
       "                     wheat              37.045000\n",
       "              50%    beef                8.285000\n",
       "                     dairy             110.975000\n",
       "                     eggs                8.420000\n",
       "                     fish               13.950000\n",
       "                     lamb_goat           1.325000\n",
       "                     nuts                3.495000\n",
       "                     pork               10.355000\n",
       "                     poultry            19.855000\n",
       "                     rice               11.875000\n",
       "                     soybeans            0.075000\n",
       "                     wheat              69.420000\n",
       "              75%    beef               17.940000\n",
       "                     dairy             192.715000\n",
       "                     eggs               12.312500\n",
       "                     fish               21.852500\n",
       "                     lamb_goat           3.102500\n",
       "                     nuts                5.610000\n",
       "                     pork               28.227500\n",
       "                     poultry            29.747500\n",
       "                     rice               43.442500\n",
       "                     soybeans            0.640000\n",
       "                     wheat             103.372500\n",
       "              max    beef               55.480000\n",
       "                     dairy             430.760000\n",
       "                     eggs               19.150000\n",
       "                     fish              179.710000\n",
       "                     lamb_goat          21.120000\n",
       "                     nuts               23.030000\n",
       "                     pork               67.110000\n",
       "                     poultry            62.500000\n",
       "                     rice              171.730000\n",
       "                     soybeans           16.950000\n",
       "                     wheat             197.500000\n",
       "co2_emission  count  beef              130.000000\n",
       "                     dairy             130.000000\n",
       "                     eggs              130.000000\n",
       "                     fish              130.000000\n",
       "                     lamb_goat         130.000000\n",
       "                     nuts              130.000000\n",
       "                     pork              130.000000\n",
       "                     poultry           130.000000\n",
       "                     rice              130.000000\n",
       "                     soybeans          130.000000\n",
       "                     wheat             130.000000\n",
       "              mean   beef              374.102000\n",
       "                     dairy             179.153846\n",
       "                     eggs                7.499615\n",
       "                     fish               27.601692\n",
       "                     lamb_goat          91.056769\n",
       "                     nuts                7.323000\n",
       "                     pork               57.070077\n",
       "                     poultry            22.793538\n",
       "                     rice               37.591615\n",
       "                     soybeans            0.387308\n",
       "                     wheat              13.644462\n",
       "              std    beef              297.906710\n",
       "                     dairy             132.935669\n",
       "                     eggs                4.622966\n",
       "                     fish               30.358481\n",
       "                     lamb_goat         128.356996\n",
       "                     nuts                5.969895\n",
       "                     pork               55.632396\n",
       "                     poultry            15.653332\n",
       "                     rice               47.763754\n",
       "                     soybeans            0.938020\n",
       "                     wheat               8.427570\n",
       "              min    beef               24.070000\n",
       "                     dairy               4.330000\n",
       "                     eggs                0.150000\n",
       "                     fish                0.380000\n",
       "                     lamb_goat           0.000000\n",
       "                     nuts                0.320000\n",
       "                     pork                0.000000\n",
       "                     poultry             0.500000\n",
       "                     rice                1.220000\n",
       "                     soybeans            0.000000\n",
       "                     wheat               0.520000\n",
       "              25%    beef              154.215000\n",
       "                     dairy              65.227500\n",
       "                     eggs                3.622500\n",
       "                     fish                9.622500\n",
       "                     lamb_goat          19.610000\n",
       "                     nuts                3.197500\n",
       "                     pork                7.395000\n",
       "                     poultry            11.720000\n",
       "                     rice                6.042500\n",
       "                     soybeans            0.000000\n",
       "                     wheat               7.065000\n",
       "              50%    beef              255.655000\n",
       "                     dairy             158.075000\n",
       "                     eggs                7.735000\n",
       "                     fish               22.270000\n",
       "                     lamb_goat          46.405000\n",
       "                     nuts                6.185000\n",
       "                     pork               36.650000\n",
       "                     poultry            21.325000\n",
       "                     rice               15.200000\n",
       "                     soybeans            0.035000\n",
       "                     wheat              13.240000\n",
       "              75%    beef              553.592500\n",
       "                     dairy             274.500000\n",
       "                     eggs               11.307500\n",
       "                     fish               34.892500\n",
       "                     lamb_goat         108.647500\n",
       "                     nuts                9.932500\n",
       "                     pork               99.915000\n",
       "                     poultry            31.950000\n",
       "                     rice               55.592500\n",
       "                     soybeans            0.290000\n",
       "                     wheat              19.710000\n",
       "              max    beef             1712.000000\n",
       "                     dairy             613.570000\n",
       "                     eggs               17.590000\n",
       "                     fish              286.940000\n",
       "                     lamb_goat         739.620000\n",
       "                     nuts               40.760000\n",
       "                     pork              237.540000\n",
       "                     poultry            67.140000\n",
       "                     rice              219.760000\n",
       "                     soybeans            7.630000\n",
       "                     wheat              37.660000\n",
       "dtype: float64"
      ]
     },
     "execution_count": 23,
     "metadata": {},
     "output_type": "execute_result"
    }
   ],
   "source": [
    "df.groupby('food_category').describe().unstack(1)"
   ]
  },
  {
   "cell_type": "markdown",
   "id": "78301ce2-ff86-4065-b681-3f08468dca5a",
   "metadata": {},
   "source": [
    "2. In a single chart, plot one boxplot for each `food_category` (11 in total) using the variable `co2_emission` as the metric. **By looking at the chart, which `food_category` has the highest interquartile range (IQR)?**"
   ]
  },
  {
   "cell_type": "code",
   "execution_count": 26,
   "id": "0f42d7f9-ccdc-4206-b4e4-b7e6748a65a7",
   "metadata": {},
   "outputs": [
    {
     "data": {
      "text/plain": [
       "<AxesSubplot:xlabel='food_category', ylabel='co2_emission'>"
      ]
     },
     "execution_count": 26,
     "metadata": {},
     "output_type": "execute_result"
    },
    {
     "data": {
      "image/png": "[encoded data removed]",
      "text/plain": [
       "<Figure size 842.4x595.44 with 1 Axes>"
      ]
     },
     "metadata": {},
     "output_type": "display_data"
    }
   ],
   "source": [
    "sns.set(rc={'figure.figsize':(11.7,8.27)})\n",
    "for feature in ['food_category']: \n",
    "    sns.boxplot(x=feature, y='co2_emission', data = df)\n",
    "    plt.show()"
   ]
  },
  {
   "cell_type": "markdown",
   "id": "50a7f9f2-6fe9-4707-a734-7dc1d9b010f9",
   "metadata": {},
   "source": [
    "3. Looking at the chart from the previous question, which is the `food_category` with the highest median `co2_emission` value? "
   ]
  },
  {
   "cell_type": "code",
   "execution_count": null,
   "id": "b0a27598-6e5d-437e-a879-15a86197bd4c",
   "metadata": {},
   "outputs": [],
   "source": []
  },
  {
   "cell_type": "markdown",
   "id": "bccd7696-498d-4220-89ff-2154275d2469",
   "metadata": {},
   "source": [
    "4. Consider the `consumption` of \"poultry\" and \"fish\" across all available `countries`; looking at the table from question 1, the average of poultry consumption (21.22) seems to be higher than that of fish consumption (17.29), but is this difference statistically significant? Create a permutation test in order to assess the null hypothesis that there is no difference between the two means. **Do you accept or reject the null hypothesis?** Explain why. "
   ]
  },
  {
   "cell_type": "markdown",
   "id": "3b7d313c-a606-4bc0-b27c-d99954fb838c",
   "metadata": {},
   "source": [
    "Given the fact that $\\alpha=5%$ and $\\text{p-value}=1.4\\%$, we can state that the p-value is less than the chosen alpha level; in fact, at our 5% level of significance, **we reject the null hypothesis** and accept the alternative: there seems to be a **significant difference** between the average of poultry consumption and the fish consumption.\n"
   ]
  },
  {
   "cell_type": "code",
   "execution_count": 46,
   "id": "159f3cd2-90f7-4eb9-a85b-263341415ba1",
   "metadata": {},
   "outputs": [
    {
     "data": {
      "text/html": [
       "<div>\n",
       "<style scoped>\n",
       "    .dataframe tbody tr th:only-of-type {\n",
       "        vertical-align: middle;\n",
       "    }\n",
       "\n",
       "    .dataframe tbody tr th {\n",
       "        vertical-align: top;\n",
       "    }\n",
       "\n",
       "    .dataframe thead th {\n",
       "        text-align: right;\n",
       "    }\n",
       "</style>\n",
       "<table border=\"1\" class=\"dataframe\">\n",
       "  <thead>\n",
       "    <tr style=\"text-align: right;\">\n",
       "      <th></th>\n",
       "      <th>country</th>\n",
       "      <th>food_category</th>\n",
       "      <th>consumption</th>\n",
       "      <th>co2_emission</th>\n",
       "    </tr>\n",
       "  </thead>\n",
       "  <tbody>\n",
       "    <tr>\n",
       "      <th>1</th>\n",
       "      <td>Argentina</td>\n",
       "      <td>poultry</td>\n",
       "      <td>38.66</td>\n",
       "      <td>41.53</td>\n",
       "    </tr>\n",
       "    <tr>\n",
       "      <th>4</th>\n",
       "      <td>Argentina</td>\n",
       "      <td>fish</td>\n",
       "      <td>4.36</td>\n",
       "      <td>6.96</td>\n",
       "    </tr>\n",
       "    <tr>\n",
       "      <th>12</th>\n",
       "      <td>Australia</td>\n",
       "      <td>poultry</td>\n",
       "      <td>46.12</td>\n",
       "      <td>49.54</td>\n",
       "    </tr>\n",
       "    <tr>\n",
       "      <th>15</th>\n",
       "      <td>Australia</td>\n",
       "      <td>fish</td>\n",
       "      <td>17.69</td>\n",
       "      <td>28.25</td>\n",
       "    </tr>\n",
       "    <tr>\n",
       "      <th>23</th>\n",
       "      <td>Albania</td>\n",
       "      <td>poultry</td>\n",
       "      <td>13.23</td>\n",
       "      <td>14.21</td>\n",
       "    </tr>\n",
       "    <tr>\n",
       "      <th>26</th>\n",
       "      <td>Albania</td>\n",
       "      <td>fish</td>\n",
       "      <td>3.85</td>\n",
       "      <td>6.15</td>\n",
       "    </tr>\n",
       "    <tr>\n",
       "      <th>34</th>\n",
       "      <td>Iceland</td>\n",
       "      <td>poultry</td>\n",
       "      <td>26.87</td>\n",
       "      <td>28.86</td>\n",
       "    </tr>\n",
       "    <tr>\n",
       "      <th>37</th>\n",
       "      <td>Iceland</td>\n",
       "      <td>fish</td>\n",
       "      <td>74.41</td>\n",
       "      <td>118.81</td>\n",
       "    </tr>\n",
       "    <tr>\n",
       "      <th>45</th>\n",
       "      <td>New Zealand</td>\n",
       "      <td>poultry</td>\n",
       "      <td>34.98</td>\n",
       "      <td>37.58</td>\n",
       "    </tr>\n",
       "    <tr>\n",
       "      <th>48</th>\n",
       "      <td>New Zealand</td>\n",
       "      <td>fish</td>\n",
       "      <td>20.36</td>\n",
       "      <td>32.51</td>\n",
       "    </tr>\n",
       "  </tbody>\n",
       "</table>\n",
       "</div>"
      ],
      "text/plain": [
       "        country food_category  consumption  co2_emission\n",
       "1     Argentina       poultry        38.66         41.53\n",
       "4     Argentina          fish         4.36          6.96\n",
       "12    Australia       poultry        46.12         49.54\n",
       "15    Australia          fish        17.69         28.25\n",
       "23      Albania       poultry        13.23         14.21\n",
       "26      Albania          fish         3.85          6.15\n",
       "34      Iceland       poultry        26.87         28.86\n",
       "37      Iceland          fish        74.41        118.81\n",
       "45  New Zealand       poultry        34.98         37.58\n",
       "48  New Zealand          fish        20.36         32.51"
      ]
     },
     "execution_count": 46,
     "metadata": {},
     "output_type": "execute_result"
    }
   ],
   "source": [
    "df2 = df.loc[(df['food_category'] == 'poultry') | (df['food_category'] == 'fish')]\n",
    "df2.head(10)"
   ]
  },
  {
   "cell_type": "code",
   "execution_count": 66,
   "id": "412aecd7-77a8-48ab-b6f8-a8cfc7abf14b",
   "metadata": {},
   "outputs": [
    {
     "name": "stdout",
     "output_type": "stream",
     "text": [
      "Observed test statistic: 3.9321538461538488\n"
     ]
    }
   ],
   "source": [
    "mu_control = np.mean(df2[df2.food_category=='fish']['consumption'])\n",
    "mu_treatment = np.mean(df2[df2.food_category=='poultry']['consumption'])\n",
    "mu_diff = mu_treatment - mu_control\n",
    "print('Observed test statistic:', mu_diff)"
   ]
  },
  {
   "cell_type": "code",
   "execution_count": 67,
   "id": "caf8a7c8-a32f-4c2f-b559-71a7d6d7ecf5",
   "metadata": {},
   "outputs": [],
   "source": [
    "n = 500\n",
    "mu_diff_samples = []\n",
    "for i in range(n): \n",
    "    # extract a subsample of 50% of data without replacement\n",
    "    df_sample1 = df2.sample(frac=0.5, replace=False)\n",
    "    # use set() to get indexes of rows that were not extracted from df in previous step\n",
    "    ix2 = set(df2.index) - set(df_sample1.index)\n",
    "    # create dataframe with other 50% of data\n",
    "    df_sample2 = df2.loc[list(ix2)]\n",
    "    # calculate difference in mean from each sample\n",
    "    mu_diff_temp = np.mean(df_sample1['consumption']) - np.mean(df_sample2['consumption'])\n",
    "    # append sampled mean difference to mu_diff_samples list\n",
    "    mu_diff_samples.append(mu_diff_temp)"
   ]
  },
  {
   "cell_type": "code",
   "execution_count": 68,
   "id": "1d074155-840f-48fe-952b-edbbf2e99d6a",
   "metadata": {},
   "outputs": [
    {
     "data": {
      "text/plain": [
       "<AxesSubplot:ylabel='Count'>"
      ]
     },
     "execution_count": 68,
     "metadata": {},
     "output_type": "execute_result"
    },
    {
     "data": {
      "text/plain": [
       "<matplotlib.lines.Line2D at 0x7f9e915b66a0>"
      ]
     },
     "execution_count": 68,
     "metadata": {},
     "output_type": "execute_result"
    },
    {
     "data": {
      "image/png": "[encoded data removed]",
      "text/plain": [
       "<Figure size 842.4x595.44 with 1 Axes>"
      ]
     },
     "metadata": {},
     "output_type": "display_data"
    },
    {
     "name": "stdout",
     "output_type": "stream",
     "text": [
      "Avgerage Simulated Test Statistic: 0.0489\n",
      "Initially Observed Test Statistic: 3.9322\n"
     ]
    }
   ],
   "source": [
    "sns.histplot(mu_diff_samples)\n",
    "plt.axvline(mu_diff, 0, 1, color='r', linestyle='--')\n",
    "plt.show()\n",
    "print('Avgerage Simulated Test Statistic:', f'{np.mean(mu_diff_samples):.4f}')\n",
    "print('Initially Observed Test Statistic:', f'{mu_diff:.4f}')"
   ]
  },
  {
   "cell_type": "code",
   "execution_count": 69,
   "id": "47ab7bd3-0a1c-416b-a2f6-065a919dc388",
   "metadata": {},
   "outputs": [
    {
     "name": "stdout",
     "output_type": "stream",
     "text": [
      "Results more extreme than observed: 7\n",
      "Total results: 500\n",
      "p-value: 7 / 500 = 0.014\n"
     ]
    }
   ],
   "source": [
    "print('Results more extreme than observed:', sum([el >= mu_diff for el in mu_diff_samples]))\n",
    "print('Total results:', len(mu_diff_samples))\n",
    "p_value = sum([el > mu_diff for el in mu_diff_samples])/n\n",
    "print('p-value:', sum([el >= mu_diff for el in mu_diff_samples]), '/', len(mu_diff_samples), '=', p_value)"
   ]
  },
  {
   "cell_type": "code",
   "execution_count": 73,
   "id": "8352cba4-a7da-49ac-9521-fa8b06db75ba",
   "metadata": {},
   "outputs": [
    {
     "name": "stdout",
     "output_type": "stream",
     "text": [
      "H0 rejected: the observed result is statistically significant | p-value <= alpha\n"
     ]
    }
   ],
   "source": [
    "alpha = 0.05\n",
    "\n",
    "if p_value <= alpha: \n",
    "    print('H0 rejected: the observed result is statistically significant | p-value <= alpha')\n",
    "else: \n",
    "    print('H0 accepted | the observed result is not statistically significant | p-value > alpha')"
   ]
  },
  {
   "cell_type": "markdown",
   "id": "5ba56ad5-8304-4744-94ed-620fad6c23a5",
   "metadata": {},
   "source": [
    "### Part 2\n",
    "\n",
    "The `world_happiness.csv` dataset from the `data` folder contains a series of variables that can be used as a proxy to a country's evaluation of its own goodness of life. The `happiness_score` metric tries to summarise how \"happy\" each country is. Load and save the dataset to a DataFrame object named `happy`. As always, familiarise yourself with its contents. "
   ]
  },
  {
   "cell_type": "code",
   "execution_count": 75,
   "id": "45c7adcb-eac7-4e21-8987-e177d3b6436c",
   "metadata": {},
   "outputs": [
    {
     "data": {
      "text/html": [
       "<div>\n",
       "<style scoped>\n",
       "    .dataframe tbody tr th:only-of-type {\n",
       "        vertical-align: middle;\n",
       "    }\n",
       "\n",
       "    .dataframe tbody tr th {\n",
       "        vertical-align: top;\n",
       "    }\n",
       "\n",
       "    .dataframe thead th {\n",
       "        text-align: right;\n",
       "    }\n",
       "</style>\n",
       "<table border=\"1\" class=\"dataframe\">\n",
       "  <thead>\n",
       "    <tr style=\"text-align: right;\">\n",
       "      <th></th>\n",
       "      <th>country</th>\n",
       "      <th>social_support</th>\n",
       "      <th>freedom</th>\n",
       "      <th>corruption</th>\n",
       "      <th>generosity</th>\n",
       "      <th>gdp_per_cap</th>\n",
       "      <th>life_exp</th>\n",
       "      <th>happiness_score</th>\n",
       "    </tr>\n",
       "  </thead>\n",
       "  <tbody>\n",
       "    <tr>\n",
       "      <th>0</th>\n",
       "      <td>Finland</td>\n",
       "      <td>2.0</td>\n",
       "      <td>5.0</td>\n",
       "      <td>4.0</td>\n",
       "      <td>47.0</td>\n",
       "      <td>42400</td>\n",
       "      <td>81.8</td>\n",
       "      <td>155</td>\n",
       "    </tr>\n",
       "    <tr>\n",
       "      <th>1</th>\n",
       "      <td>Denmark</td>\n",
       "      <td>4.0</td>\n",
       "      <td>6.0</td>\n",
       "      <td>3.0</td>\n",
       "      <td>22.0</td>\n",
       "      <td>48300</td>\n",
       "      <td>81.0</td>\n",
       "      <td>154</td>\n",
       "    </tr>\n",
       "    <tr>\n",
       "      <th>2</th>\n",
       "      <td>Norway</td>\n",
       "      <td>3.0</td>\n",
       "      <td>3.0</td>\n",
       "      <td>8.0</td>\n",
       "      <td>11.0</td>\n",
       "      <td>66300</td>\n",
       "      <td>82.6</td>\n",
       "      <td>153</td>\n",
       "    </tr>\n",
       "    <tr>\n",
       "      <th>3</th>\n",
       "      <td>Iceland</td>\n",
       "      <td>1.0</td>\n",
       "      <td>7.0</td>\n",
       "      <td>45.0</td>\n",
       "      <td>3.0</td>\n",
       "      <td>47900</td>\n",
       "      <td>83.0</td>\n",
       "      <td>152</td>\n",
       "    </tr>\n",
       "    <tr>\n",
       "      <th>4</th>\n",
       "      <td>Netherlands</td>\n",
       "      <td>15.0</td>\n",
       "      <td>19.0</td>\n",
       "      <td>12.0</td>\n",
       "      <td>7.0</td>\n",
       "      <td>50500</td>\n",
       "      <td>81.8</td>\n",
       "      <td>151</td>\n",
       "    </tr>\n",
       "  </tbody>\n",
       "</table>\n",
       "</div>"
      ],
      "text/plain": [
       "       country  social_support  freedom  corruption  generosity  gdp_per_cap  \\\n",
       "0      Finland             2.0      5.0         4.0        47.0        42400   \n",
       "1      Denmark             4.0      6.0         3.0        22.0        48300   \n",
       "2       Norway             3.0      3.0         8.0        11.0        66300   \n",
       "3      Iceland             1.0      7.0        45.0         3.0        47900   \n",
       "4  Netherlands            15.0     19.0        12.0         7.0        50500   \n",
       "\n",
       "   life_exp  happiness_score  \n",
       "0      81.8              155  \n",
       "1      81.0              154  \n",
       "2      82.6              153  \n",
       "3      83.0              152  \n",
       "4      81.8              151  "
      ]
     },
     "execution_count": 75,
     "metadata": {},
     "output_type": "execute_result"
    }
   ],
   "source": [
    "happy = pd.read_csv(\"data/world_happiness.csv\")\n",
    "happy.head(5)"
   ]
  },
  {
   "cell_type": "code",
   "execution_count": 92,
   "id": "d2318bb8-f160-429e-b6c4-10e553952b8b",
   "metadata": {},
   "outputs": [
    {
     "data": {
      "text/plain": [
       "True"
      ]
     },
     "execution_count": 92,
     "metadata": {},
     "output_type": "execute_result"
    }
   ],
   "source": [
    "happy.isnull().values.any()"
   ]
  },
  {
   "cell_type": "code",
   "execution_count": 94,
   "id": "c1819927-7e4d-4324-9e63-9f73a9654551",
   "metadata": {},
   "outputs": [
    {
     "data": {
      "text/html": [
       "<div>\n",
       "<style scoped>\n",
       "    .dataframe tbody tr th:only-of-type {\n",
       "        vertical-align: middle;\n",
       "    }\n",
       "\n",
       "    .dataframe tbody tr th {\n",
       "        vertical-align: top;\n",
       "    }\n",
       "\n",
       "    .dataframe thead th {\n",
       "        text-align: right;\n",
       "    }\n",
       "</style>\n",
       "<table border=\"1\" class=\"dataframe\">\n",
       "  <thead>\n",
       "    <tr style=\"text-align: right;\">\n",
       "      <th></th>\n",
       "      <th>country</th>\n",
       "      <th>social_support</th>\n",
       "      <th>freedom</th>\n",
       "      <th>corruption</th>\n",
       "      <th>generosity</th>\n",
       "      <th>gdp_per_cap</th>\n",
       "      <th>life_exp</th>\n",
       "      <th>happiness_score</th>\n",
       "    </tr>\n",
       "  </thead>\n",
       "  <tbody>\n",
       "    <tr>\n",
       "      <th>20</th>\n",
       "      <td>United Arab Emirates</td>\n",
       "      <td>72.0</td>\n",
       "      <td>4.0</td>\n",
       "      <td>NaN</td>\n",
       "      <td>15.0</td>\n",
       "      <td>65700</td>\n",
       "      <td>73.6</td>\n",
       "      <td>135</td>\n",
       "    </tr>\n",
       "    <tr>\n",
       "      <th>26</th>\n",
       "      <td>Saudi Arabia</td>\n",
       "      <td>62.0</td>\n",
       "      <td>68.0</td>\n",
       "      <td>NaN</td>\n",
       "      <td>82.0</td>\n",
       "      <td>48100</td>\n",
       "      <td>77.1</td>\n",
       "      <td>128</td>\n",
       "    </tr>\n",
       "    <tr>\n",
       "      <th>27</th>\n",
       "      <td>Qatar</td>\n",
       "      <td>NaN</td>\n",
       "      <td>NaN</td>\n",
       "      <td>NaN</td>\n",
       "      <td>NaN</td>\n",
       "      <td>113000</td>\n",
       "      <td>80.5</td>\n",
       "      <td>127</td>\n",
       "    </tr>\n",
       "    <tr>\n",
       "      <th>35</th>\n",
       "      <td>Bahrain</td>\n",
       "      <td>59.0</td>\n",
       "      <td>24.0</td>\n",
       "      <td>NaN</td>\n",
       "      <td>23.0</td>\n",
       "      <td>42000</td>\n",
       "      <td>79.8</td>\n",
       "      <td>119</td>\n",
       "    </tr>\n",
       "    <tr>\n",
       "      <th>47</th>\n",
       "      <td>Kuwait</td>\n",
       "      <td>69.0</td>\n",
       "      <td>47.0</td>\n",
       "      <td>NaN</td>\n",
       "      <td>42.0</td>\n",
       "      <td>64100</td>\n",
       "      <td>83.3</td>\n",
       "      <td>105</td>\n",
       "    </tr>\n",
       "    <tr>\n",
       "      <th>78</th>\n",
       "      <td>Turkmenistan</td>\n",
       "      <td>8.0</td>\n",
       "      <td>83.0</td>\n",
       "      <td>NaN</td>\n",
       "      <td>33.0</td>\n",
       "      <td>17600</td>\n",
       "      <td>70.3</td>\n",
       "      <td>69</td>\n",
       "    </tr>\n",
       "    <tr>\n",
       "      <th>84</th>\n",
       "      <td>China</td>\n",
       "      <td>108.0</td>\n",
       "      <td>31.0</td>\n",
       "      <td>NaN</td>\n",
       "      <td>133.0</td>\n",
       "      <td>17100</td>\n",
       "      <td>77.5</td>\n",
       "      <td>63</td>\n",
       "    </tr>\n",
       "    <tr>\n",
       "      <th>91</th>\n",
       "      <td>Jordan</td>\n",
       "      <td>88.0</td>\n",
       "      <td>88.0</td>\n",
       "      <td>NaN</td>\n",
       "      <td>118.0</td>\n",
       "      <td>8350</td>\n",
       "      <td>79.6</td>\n",
       "      <td>55</td>\n",
       "    </tr>\n",
       "  </tbody>\n",
       "</table>\n",
       "</div>"
      ],
      "text/plain": [
       "                 country  social_support  freedom  corruption  generosity  \\\n",
       "20  United Arab Emirates            72.0      4.0         NaN        15.0   \n",
       "26          Saudi Arabia            62.0     68.0         NaN        82.0   \n",
       "27                 Qatar             NaN      NaN         NaN         NaN   \n",
       "35               Bahrain            59.0     24.0         NaN        23.0   \n",
       "47                Kuwait            69.0     47.0         NaN        42.0   \n",
       "78          Turkmenistan             8.0     83.0         NaN        33.0   \n",
       "84                 China           108.0     31.0         NaN       133.0   \n",
       "91                Jordan            88.0     88.0         NaN       118.0   \n",
       "\n",
       "    gdp_per_cap  life_exp  happiness_score  \n",
       "20        65700      73.6              135  \n",
       "26        48100      77.1              128  \n",
       "27       113000      80.5              127  \n",
       "35        42000      79.8              119  \n",
       "47        64100      83.3              105  \n",
       "78        17600      70.3               69  \n",
       "84        17100      77.5               63  \n",
       "91         8350      79.6               55  "
      ]
     },
     "execution_count": 94,
     "metadata": {},
     "output_type": "execute_result"
    }
   ],
   "source": [
    "happy2 = happy[happy.isna().any(axis=1)]\n",
    "happy2"
   ]
  },
  {
   "cell_type": "code",
   "execution_count": 77,
   "id": "6a843ed1-5610-4f2d-9cb0-71947d45e9cd",
   "metadata": {},
   "outputs": [
    {
     "name": "stdout",
     "output_type": "stream",
     "text": [
      "<class 'pandas.core.frame.DataFrame'>\n",
      "RangeIndex: 143 entries, 0 to 142\n",
      "Data columns (total 8 columns):\n",
      " #   Column           Non-Null Count  Dtype  \n",
      "---  ------           --------------  -----  \n",
      " 0   country          143 non-null    object \n",
      " 1   social_support   142 non-null    float64\n",
      " 2   freedom          142 non-null    float64\n",
      " 3   corruption       135 non-null    float64\n",
      " 4   generosity       142 non-null    float64\n",
      " 5   gdp_per_cap      143 non-null    int64  \n",
      " 6   life_exp         143 non-null    float64\n",
      " 7   happiness_score  143 non-null    int64  \n",
      "dtypes: float64(5), int64(2), object(1)\n",
      "memory usage: 9.1+ KB\n"
     ]
    }
   ],
   "source": [
    "happy.info()"
   ]
  },
  {
   "cell_type": "markdown",
   "id": "2e8a9bb6-9d7a-412b-8d19-a4adbf7c63c4",
   "metadata": {},
   "source": [
    "5. Using a histogram, plot the distribution of the `happiness_score` variable, **which distribution does it resemble?** *(in the answer sheet write the [name of the distribution](https://miro.medium.com/max/962/1*DmPUIjvecL7KllOamoFSDw.png) that best fits the data)* "
   ]
  },
  {
   "cell_type": "code",
   "execution_count": 86,
   "id": "9272de88-212e-47ac-9fce-86aaa88c2f14",
   "metadata": {},
   "outputs": [
    {
     "data": {
      "text/plain": [
       "<AxesSubplot:xlabel='happiness_score', ylabel='Count'>"
      ]
     },
     "execution_count": 86,
     "metadata": {},
     "output_type": "execute_result"
    },
    {
     "data": {
      "image/png": "[encoded data removed]",
      "text/plain": [
       "<Figure size 842.4x595.44 with 1 Axes>"
      ]
     },
     "metadata": {},
     "output_type": "display_data"
    }
   ],
   "source": [
    "sns.histplot(data = happy, x = \"happiness_score\",kde = True, bins = 10)\n",
    "plt.show()"
   ]
  },
  {
   "cell_type": "markdown",
   "id": "cf499487-473b-48f6-84d4-2df98f1cda1f",
   "metadata": {},
   "source": [
    "6. Plot a correlation matrix (or a correlation heatmap) between all the numeric variables in the dataset. **Which variable is the least correlated with the `happiness_score` metric?** "
   ]
  },
  {
   "cell_type": "code",
   "execution_count": 89,
   "id": "80217c3b-7920-4b2d-bf89-68b96d0d62d1",
   "metadata": {},
   "outputs": [
    {
     "data": {
      "image/png": "[encoded data removed]",
      "text/plain": [
       "<Figure size 842.4x595.44 with 2 Axes>"
      ]
     },
     "metadata": {},
     "output_type": "display_data"
    }
   ],
   "source": [
    "sns.heatmap(happy.corr(),annot=True,cmap='BrBG');"
   ]
  },
  {
   "cell_type": "markdown",
   "id": "210a4db8-5d37-418e-a795-1d23de00c3c6",
   "metadata": {},
   "source": [
    "7. You may have noticed that the `corruption` metric has some missing values. **How many countries have a missing corruption value?** After you've answered the question, replace all missing values *in all columns of the DataFrame* with the *respective column's mean value*. "
   ]
  },
  {
   "cell_type": "code",
   "execution_count": 98,
   "id": "30a78e52-215b-4620-a8a1-a53976af51da",
   "metadata": {},
   "outputs": [
    {
     "data": {
      "text/plain": [
       "8"
      ]
     },
     "execution_count": 98,
     "metadata": {},
     "output_type": "execute_result"
    }
   ],
   "source": [
    "len(happy2.index)"
   ]
  },
  {
   "cell_type": "code",
   "execution_count": 99,
   "id": "d4d1ac9a-874a-4730-a0f9-d617e5c4e470",
   "metadata": {},
   "outputs": [],
   "source": [
    "happy['corruption'].fillna((happy['corruption'].mean()), inplace=True)"
   ]
  },
  {
   "cell_type": "code",
   "execution_count": 100,
   "id": "a736a954-5649-45a5-b5f7-4a6bd135b745",
   "metadata": {},
   "outputs": [
    {
     "data": {
      "text/plain": [
       "True"
      ]
     },
     "execution_count": 100,
     "metadata": {},
     "output_type": "execute_result"
    }
   ],
   "source": [
    "happy.isnull().values.any()"
   ]
  },
  {
   "cell_type": "code",
   "execution_count": 101,
   "id": "2a383509-7706-4f23-999f-f9529973a42a",
   "metadata": {},
   "outputs": [
    {
     "data": {
      "text/html": [
       "<div>\n",
       "<style scoped>\n",
       "    .dataframe tbody tr th:only-of-type {\n",
       "        vertical-align: middle;\n",
       "    }\n",
       "\n",
       "    .dataframe tbody tr th {\n",
       "        vertical-align: top;\n",
       "    }\n",
       "\n",
       "    .dataframe thead th {\n",
       "        text-align: right;\n",
       "    }\n",
       "</style>\n",
       "<table border=\"1\" class=\"dataframe\">\n",
       "  <thead>\n",
       "    <tr style=\"text-align: right;\">\n",
       "      <th></th>\n",
       "      <th>country</th>\n",
       "      <th>social_support</th>\n",
       "      <th>freedom</th>\n",
       "      <th>corruption</th>\n",
       "      <th>generosity</th>\n",
       "      <th>gdp_per_cap</th>\n",
       "      <th>life_exp</th>\n",
       "      <th>happiness_score</th>\n",
       "    </tr>\n",
       "  </thead>\n",
       "  <tbody>\n",
       "    <tr>\n",
       "      <th>27</th>\n",
       "      <td>Qatar</td>\n",
       "      <td>NaN</td>\n",
       "      <td>NaN</td>\n",
       "      <td>73.244444</td>\n",
       "      <td>NaN</td>\n",
       "      <td>113000</td>\n",
       "      <td>80.5</td>\n",
       "      <td>127</td>\n",
       "    </tr>\n",
       "  </tbody>\n",
       "</table>\n",
       "</div>"
      ],
      "text/plain": [
       "   country  social_support  freedom  corruption  generosity  gdp_per_cap  \\\n",
       "27   Qatar             NaN      NaN   73.244444         NaN       113000   \n",
       "\n",
       "    life_exp  happiness_score  \n",
       "27      80.5              127  "
      ]
     },
     "execution_count": 101,
     "metadata": {},
     "output_type": "execute_result"
    }
   ],
   "source": [
    "happy[happy.isna().any(axis=1)]"
   ]
  },
  {
   "cell_type": "markdown",
   "id": "62a6d5a1-6adf-4f66-bd9d-911a0e07c85a",
   "metadata": {},
   "source": [
    "8. Use the `statsmodel` package to create a linear regression model where you use `life_exp` to predict the `happiness_score`. After [refreshing your memory on how to interpret a regression coefficient](https://statisticsbyjim.com/regression/interpret-coefficients-p-values-regression/#:~:text=The%20coefficient%20value%20signifies%20how,in%20isolation%20from%20the%20others.), answer the following question: given the model you just created, **a 1-year increase in life expectancy corresponds to an increase of how many points of the happiness score variable?**. "
   ]
  },
  {
   "cell_type": "code",
   "execution_count": 124,
   "id": "50a7d958-0796-48e4-a8fd-d9caeb7632b1",
   "metadata": {},
   "outputs": [
    {
     "data": {
      "text/html": [
       "<table class=\"simpletable\">\n",
       "<caption>OLS Regression Results</caption>\n",
       "<tr>\n",
       "  <th>Dep. Variable:</th>     <td>happiness_score</td> <th>  R-squared:         </th> <td>   0.609</td>\n",
       "</tr>\n",
       "<tr>\n",
       "  <th>Model:</th>                   <td>OLS</td>       <th>  Adj. R-squared:    </th> <td>   0.606</td>\n",
       "</tr>\n",
       "<tr>\n",
       "  <th>Method:</th>             <td>Least Squares</td>  <th>  F-statistic:       </th> <td>   219.4</td>\n",
       "</tr>\n",
       "<tr>\n",
       "  <th>Date:</th>             <td>Tue, 09 Aug 2022</td> <th>  Prob (F-statistic):</th> <td>1.59e-30</td>\n",
       "</tr>\n",
       "<tr>\n",
       "  <th>Time:</th>                 <td>19:56:00</td>     <th>  Log-Likelihood:    </th> <td> -683.97</td>\n",
       "</tr>\n",
       "<tr>\n",
       "  <th>No. Observations:</th>      <td>   143</td>      <th>  AIC:               </th> <td>   1372.</td>\n",
       "</tr>\n",
       "<tr>\n",
       "  <th>Df Residuals:</th>          <td>   141</td>      <th>  BIC:               </th> <td>   1378.</td>\n",
       "</tr>\n",
       "<tr>\n",
       "  <th>Df Model:</th>              <td>     1</td>      <th>                     </th>     <td> </td>   \n",
       "</tr>\n",
       "<tr>\n",
       "  <th>Covariance Type:</th>      <td>nonrobust</td>    <th>                     </th>     <td> </td>   \n",
       "</tr>\n",
       "</table>\n",
       "<table class=\"simpletable\">\n",
       "<tr>\n",
       "      <td></td>        <th>coef</th>     <th>std err</th>      <th>t</th>      <th>P>|t|</th>  <th>[0.025</th>    <th>0.975]</th>  \n",
       "</tr>\n",
       "<tr>\n",
       "  <th>const</th>    <td> -298.8710</td> <td>   25.536</td> <td>  -11.704</td> <td> 0.000</td> <td> -349.355</td> <td> -248.387</td>\n",
       "</tr>\n",
       "<tr>\n",
       "  <th>life_exp</th> <td>    5.1021</td> <td>    0.344</td> <td>   14.812</td> <td> 0.000</td> <td>    4.421</td> <td>    5.783</td>\n",
       "</tr>\n",
       "</table>\n",
       "<table class=\"simpletable\">\n",
       "<tr>\n",
       "  <th>Omnibus:</th>       <td> 7.539</td> <th>  Durbin-Watson:     </th> <td>   1.234</td>\n",
       "</tr>\n",
       "<tr>\n",
       "  <th>Prob(Omnibus):</th> <td> 0.023</td> <th>  Jarque-Bera (JB):  </th> <td>   6.120</td>\n",
       "</tr>\n",
       "<tr>\n",
       "  <th>Skew:</th>          <td>-0.408</td> <th>  Prob(JB):          </th> <td>  0.0469</td>\n",
       "</tr>\n",
       "<tr>\n",
       "  <th>Kurtosis:</th>      <td> 2.400</td> <th>  Cond. No.          </th> <td>    778.</td>\n",
       "</tr>\n",
       "</table><br/><br/>Notes:<br/>[1] Standard Errors assume that the covariance matrix of the errors is correctly specified."
      ],
      "text/plain": [
       "<class 'statsmodels.iolib.summary.Summary'>\n",
       "\"\"\"\n",
       "                            OLS Regression Results                            \n",
       "==============================================================================\n",
       "Dep. Variable:        happiness_score   R-squared:                       0.609\n",
       "Model:                            OLS   Adj. R-squared:                  0.606\n",
       "Method:                 Least Squares   F-statistic:                     219.4\n",
       "Date:                Tue, 09 Aug 2022   Prob (F-statistic):           1.59e-30\n",
       "Time:                        19:56:00   Log-Likelihood:                -683.97\n",
       "No. Observations:                 143   AIC:                             1372.\n",
       "Df Residuals:                     141   BIC:                             1378.\n",
       "Df Model:                           1                                         \n",
       "Covariance Type:            nonrobust                                         \n",
       "==============================================================================\n",
       "                 coef    std err          t      P>|t|      [0.025      0.975]\n",
       "------------------------------------------------------------------------------\n",
       "const       -298.8710     25.536    -11.704      0.000    -349.355    -248.387\n",
       "life_exp       5.1021      0.344     14.812      0.000       4.421       5.783\n",
       "==============================================================================\n",
       "Omnibus:                        7.539   Durbin-Watson:                   1.234\n",
       "Prob(Omnibus):                  0.023   Jarque-Bera (JB):                6.120\n",
       "Skew:                          -0.408   Prob(JB):                       0.0469\n",
       "Kurtosis:                       2.400   Cond. No.                         778.\n",
       "==============================================================================\n",
       "\n",
       "Notes:\n",
       "[1] Standard Errors assume that the covariance matrix of the errors is correctly specified.\n",
       "\"\"\""
      ]
     },
     "execution_count": 124,
     "metadata": {},
     "output_type": "execute_result"
    }
   ],
   "source": [
    "import statsmodels.api as sm\n",
    "Y = happy['happiness_score']\n",
    "X = happy['life_exp']\n",
    "X = sm.add_constant(X)\n",
    "model = sm.OLS(Y,X)\n",
    "results = model.fit()\n",
    "results.summary()"
   ]
  },
  {
   "cell_type": "code",
   "execution_count": 125,
   "id": "dae2eb27-2e6f-4393-aab6-0524c2b2f16c",
   "metadata": {},
   "outputs": [],
   "source": [
    "results_as_html = results.summary().tables[1].as_html()\n",
    "results_df = pd.read_html(results_as_html, header=0, index_col=0)[0]\n",
    "\n",
    "intercept, slope = results_df['coef'][0], results_df['coef'][1]"
   ]
  },
  {
   "cell_type": "code",
   "execution_count": 126,
   "id": "22bc9aa4-c6d1-4c07-a110-13e8b1880374",
   "metadata": {},
   "outputs": [
    {
     "data": {
      "text/plain": [
       "<AxesSubplot:xlabel='life_exp', ylabel='happiness_score'>"
      ]
     },
     "execution_count": 126,
     "metadata": {},
     "output_type": "execute_result"
    },
    {
     "data": {
      "text/plain": [
       "[<matplotlib.lines.Line2D at 0x7f9ea86af820>]"
      ]
     },
     "execution_count": 126,
     "metadata": {},
     "output_type": "execute_result"
    },
    {
     "data": {
      "image/png": "[encoded data removed]",
      "text/plain": [
       "<Figure size 842.4x595.44 with 1 Axes>"
      ]
     },
     "metadata": {},
     "output_type": "display_data"
    }
   ],
   "source": [
    "# plot the data points using a scatter plot\n",
    "sns.scatterplot(x='life_exp', y='happiness_score', data=happy)\n",
    "\n",
    "axes = plt.gca()   # get axes instance of current figure\n",
    "x_vals = np.array(axes.get_xlim())   # get x-axis limits\n",
    "y_vals = intercept + (slope * x_vals)   # define the equation of the regression line\n",
    "plt.plot(x_vals, y_vals, '--', color='r')   # draw the regression line on top of the scatter plot\n",
    "plt.show()"
   ]
  },
  {
   "cell_type": "markdown",
   "id": "1c567dad-9583-4731-aafb-2e887d461403",
   "metadata": {},
   "source": [
    "9. Split the dataset in `train` and `test` sets, leaving 33% of the data in the latter. Then, using the `sklearn` package, train a linear regression model where you try to predict the `happiness_score` using the following set of predictors: `['social_support', 'freedom', 'generosity', 'life_exp']` *(use a `random_state=42`)*. Calculate the R-squared on the train set and compare it with the R-squared based on the test set. **Would you say that the model is overfitting the training data?** Motivate your answer. "
   ]
  },
  {
   "cell_type": "markdown",
   "id": "0df1d7f7-d83a-4e0a-8f70-7415cc2af92c",
   "metadata": {},
   "source": [
    "One of the symptoms of an overfit model is an R-squared value that is too high but comparing the training and testing R-squared results, we can conclude that the model doesn't overfit the data, in fact the R-squared between the two models are quite similar. **In case of overfitting**, we would have observed a larger and evident discrepancy between training and testing performance. "
   ]
  },
  {
   "cell_type": "code",
   "execution_count": 146,
   "id": "588807f8-0084-4893-b5ca-612bc03df30f",
   "metadata": {},
   "outputs": [
    {
     "data": {
      "text/html": [
       "<table class=\"simpletable\">\n",
       "<caption>OLS Regression Results</caption>\n",
       "<tr>\n",
       "  <th>Dep. Variable:</th>     <td>happiness_score</td> <th>  R-squared:         </th> <td>   0.785</td>\n",
       "</tr>\n",
       "<tr>\n",
       "  <th>Model:</th>                   <td>OLS</td>       <th>  Adj. R-squared:    </th> <td>   0.775</td>\n",
       "</tr>\n",
       "<tr>\n",
       "  <th>Method:</th>             <td>Least Squares</td>  <th>  F-statistic:       </th> <td>   82.10</td>\n",
       "</tr>\n",
       "<tr>\n",
       "  <th>Date:</th>             <td>Tue, 09 Aug 2022</td> <th>  Prob (F-statistic):</th> <td>3.39e-29</td>\n",
       "</tr>\n",
       "<tr>\n",
       "  <th>Time:</th>                 <td>20:24:55</td>     <th>  Log-Likelihood:    </th> <td> -426.46</td>\n",
       "</tr>\n",
       "<tr>\n",
       "  <th>No. Observations:</th>      <td>    95</td>      <th>  AIC:               </th> <td>   862.9</td>\n",
       "</tr>\n",
       "<tr>\n",
       "  <th>Df Residuals:</th>          <td>    90</td>      <th>  BIC:               </th> <td>   875.7</td>\n",
       "</tr>\n",
       "<tr>\n",
       "  <th>Df Model:</th>              <td>     4</td>      <th>                     </th>     <td> </td>   \n",
       "</tr>\n",
       "<tr>\n",
       "  <th>Covariance Type:</th>      <td>nonrobust</td>    <th>                     </th>     <td> </td>   \n",
       "</tr>\n",
       "</table>\n",
       "<table class=\"simpletable\">\n",
       "<tr>\n",
       "         <td></td>           <th>coef</th>     <th>std err</th>      <th>t</th>      <th>P>|t|</th>  <th>[0.025</th>    <th>0.975]</th>  \n",
       "</tr>\n",
       "<tr>\n",
       "  <th>const</th>          <td>    1.3763</td> <td>   38.767</td> <td>    0.036</td> <td> 0.972</td> <td>  -75.642</td> <td>   78.395</td>\n",
       "</tr>\n",
       "<tr>\n",
       "  <th>social_support</th> <td>   -0.5119</td> <td>    0.073</td> <td>   -7.025</td> <td> 0.000</td> <td>   -0.657</td> <td>   -0.367</td>\n",
       "</tr>\n",
       "<tr>\n",
       "  <th>freedom</th>        <td>   -0.1786</td> <td>    0.060</td> <td>   -2.966</td> <td> 0.004</td> <td>   -0.298</td> <td>   -0.059</td>\n",
       "</tr>\n",
       "<tr>\n",
       "  <th>generosity</th>     <td>   -0.0518</td> <td>    0.061</td> <td>   -0.847</td> <td> 0.399</td> <td>   -0.173</td> <td>    0.070</td>\n",
       "</tr>\n",
       "<tr>\n",
       "  <th>life_exp</th>       <td>    1.8109</td> <td>    0.459</td> <td>    3.942</td> <td> 0.000</td> <td>    0.898</td> <td>    2.724</td>\n",
       "</tr>\n",
       "</table>\n",
       "<table class=\"simpletable\">\n",
       "<tr>\n",
       "  <th>Omnibus:</th>       <td> 1.025</td> <th>  Durbin-Watson:     </th> <td>   1.871</td>\n",
       "</tr>\n",
       "<tr>\n",
       "  <th>Prob(Omnibus):</th> <td> 0.599</td> <th>  Jarque-Bera (JB):  </th> <td>   0.523</td>\n",
       "</tr>\n",
       "<tr>\n",
       "  <th>Skew:</th>          <td>-0.042</td> <th>  Prob(JB):          </th> <td>   0.770</td>\n",
       "</tr>\n",
       "<tr>\n",
       "  <th>Kurtosis:</th>      <td> 3.354</td> <th>  Cond. No.          </th> <td>2.84e+03</td>\n",
       "</tr>\n",
       "</table><br/><br/>Notes:<br/>[1] Standard Errors assume that the covariance matrix of the errors is correctly specified.<br/>[2] The condition number is large, 2.84e+03. This might indicate that there are<br/>strong multicollinearity or other numerical problems."
      ],
      "text/plain": [
       "<class 'statsmodels.iolib.summary.Summary'>\n",
       "\"\"\"\n",
       "                            OLS Regression Results                            \n",
       "==============================================================================\n",
       "Dep. Variable:        happiness_score   R-squared:                       0.785\n",
       "Model:                            OLS   Adj. R-squared:                  0.775\n",
       "Method:                 Least Squares   F-statistic:                     82.10\n",
       "Date:                Tue, 09 Aug 2022   Prob (F-statistic):           3.39e-29\n",
       "Time:                        20:24:55   Log-Likelihood:                -426.46\n",
       "No. Observations:                  95   AIC:                             862.9\n",
       "Df Residuals:                      90   BIC:                             875.7\n",
       "Df Model:                           4                                         \n",
       "Covariance Type:            nonrobust                                         \n",
       "==================================================================================\n",
       "                     coef    std err          t      P>|t|      [0.025      0.975]\n",
       "----------------------------------------------------------------------------------\n",
       "const              1.3763     38.767      0.036      0.972     -75.642      78.395\n",
       "social_support    -0.5119      0.073     -7.025      0.000      -0.657      -0.367\n",
       "freedom           -0.1786      0.060     -2.966      0.004      -0.298      -0.059\n",
       "generosity        -0.0518      0.061     -0.847      0.399      -0.173       0.070\n",
       "life_exp           1.8109      0.459      3.942      0.000       0.898       2.724\n",
       "==============================================================================\n",
       "Omnibus:                        1.025   Durbin-Watson:                   1.871\n",
       "Prob(Omnibus):                  0.599   Jarque-Bera (JB):                0.523\n",
       "Skew:                          -0.042   Prob(JB):                        0.770\n",
       "Kurtosis:                       3.354   Cond. No.                     2.84e+03\n",
       "==============================================================================\n",
       "\n",
       "Notes:\n",
       "[1] Standard Errors assume that the covariance matrix of the errors is correctly specified.\n",
       "[2] The condition number is large, 2.84e+03. This might indicate that there are\n",
       "strong multicollinearity or other numerical problems.\n",
       "\"\"\""
      ]
     },
     "execution_count": 146,
     "metadata": {},
     "output_type": "execute_result"
    }
   ],
   "source": [
    "Y = happy['happiness_score']\n",
    "X = happy[['social_support', 'freedom', 'generosity', 'life_exp']]\n",
    "X = sm.add_constant(data=X)\n",
    "from sklearn.model_selection import train_test_split\n",
    "X_train, X_test, y_train, y_test = train_test_split(X, Y, test_size=0.33, random_state=42)\n",
    "model = sm.OLS(y_train,X_train)\n",
    "results = model.fit()\n",
    "results.summary()"
   ]
  },
  {
   "cell_type": "code",
   "execution_count": 147,
   "id": "fcf80261-c29f-4481-a183-8cd870e0eee2",
   "metadata": {},
   "outputs": [
    {
     "name": "stdout",
     "output_type": "stream",
     "text": [
      "R-squared of test set: 0.7913010676118626\n"
     ]
    }
   ],
   "source": [
    "ssr_test = np.sum((y_test - pred_test)**2)\n",
    "sst_test = np.sum((y_test-np.mean(y_test))**2)\n",
    "rsq_test = 1 - (ssr_test/sst_test)\n",
    "print ('R-squared of test set:', rsq_test)"
   ]
  },
  {
   "cell_type": "code",
   "execution_count": 148,
   "id": "0ecda72c-66f9-4eb6-bcf0-7b228bced131",
   "metadata": {},
   "outputs": [
    {
     "name": "stdout",
     "output_type": "stream",
     "text": [
      "R-squared of train set: 0.784887383901449\n"
     ]
    }
   ],
   "source": [
    "ssr_train = np.sum((y_train - pred_train)**2)\n",
    "sst_train = np.sum((y_train-np.mean(y_train))**2)\n",
    "rsq_train = 1 - (ssr_train/sst_train)\n",
    "print ('R-squared of train set:', rsq_train)"
   ]
  },
  {
   "cell_type": "markdown",
   "id": "3feb419a-e0ae-4805-aec4-34523c4e7276",
   "metadata": {},
   "source": [
    "10. Using the same model from the previous question, **calculate the MAE on the testing set and report it on the answers Sheet.** Are you satisfyied with the model's performance?"
   ]
  },
  {
   "cell_type": "code",
   "execution_count": 145,
   "id": "c99be3ea-6d8b-483c-ba84-de9dcaa36dcb",
   "metadata": {},
   "outputs": [],
   "source": [
    "def mae(y, pred): \n",
    "    return round(np.mean(np.abs(y - pred)), 2)"
   ]
  },
  {
   "cell_type": "code",
   "execution_count": 151,
   "id": "48aebae2-1601-4a22-8703-a8f01d3f954d",
   "metadata": {},
   "outputs": [
    {
     "name": "stdout",
     "output_type": "stream",
     "text": [
      "Naïve Testing MAE: 39.94\n",
      "Testing MAE: 17.12\n"
     ]
    }
   ],
   "source": [
    "pred_test = results.predict(X_test)\n",
    "\n",
    "print('Naïve Testing MAE:', mae(y_test, np.mean(y_test))) #naive mae\n",
    "print('Testing MAE:', mae(y_test, pred_test)) # mae"
   ]
  },
  {
   "cell_type": "markdown",
   "id": "154416b0-47d5-4420-afe7-989bffebe7b6",
   "metadata": {},
   "source": [
    "### Bonus"
   ]
  },
  {
   "cell_type": "markdown",
   "id": "a789b3c5-ffcf-4769-a5c9-0487ada0ee3c",
   "metadata": {},
   "source": [
    "11. <span style=\"color:red\">[BONUS]</span> **Do you notice anything strange when looking at the regression coefficients of the model in the previous answer?** (answer here, not on the response Google Sheet)"
   ]
  },
  {
   "cell_type": "markdown",
   "id": "982422cc-50bb-4f1a-96a5-3526f542d115",
   "metadata": {},
   "source": [
    "First of all, the condition number is large so there is, maybe, multicollinearity between variables. Then, the p-value for the constant is really high (0.972), as also for the variable \"generosity\" (0.399)."
   ]
  },
  {
   "cell_type": "markdown",
   "id": "4f4d5a31-b3c4-4696-abd8-6638efd7f5e9",
   "metadata": {},
   "source": [
    "12. <span style=\"color:red\">[BONUS]</span> The code in the following cell creates a forecasting model using the `prophet` library. Specifically, it fits an additive model (the effect of the seasonality is added to the trend in order to get forecasts) on a dataframe `df` which contains the number of airline passengers over time. Notice how the seasonality in the forecast is too large at the start of the time series and too small at the end (compared to the data it tries to fit). **Modify the Prophet code to account for the effect of growing seasonality.** "
   ]
  },
  {
   "cell_type": "markdown",
   "id": "0d590066-2e64-4c1c-b406-5139836ed714",
   "metadata": {},
   "source": [
    "i used the multiplicative decomposition because the seasonal component does change proportionally with the level of the time series"
   ]
  },
  {
   "cell_type": "code",
   "execution_count": 159,
   "id": "3d471a1f-6442-4c8f-a8ea-a94f3258a584",
   "metadata": {},
   "outputs": [
    {
     "name": "stderr",
     "output_type": "stream",
     "text": [
      "14:41:45 - cmdstanpy - INFO - Chain [1] start processing\n",
      "14:41:45 - cmdstanpy - INFO - Chain [1] done processing\n"
     ]
    },
    {
     "data": {
      "text/plain": [
       "<prophet.forecaster.Prophet at 0x7f9eca72eb20>"
      ]
     },
     "execution_count": 159,
     "metadata": {},
     "output_type": "execute_result"
    },
    {
     "data": {
      "image/png": "[encoded data removed]",
      "text/plain": [
       "<Figure size 720x432 with 1 Axes>"
      ]
     },
     "metadata": {},
     "output_type": "display_data"
    }
   ],
   "source": [
    "# DON NOT DELETE >>> RUN THIS CELL!\n",
    "\n",
    "from prophet import Prophet\n",
    "\n",
    "df = pd.read_csv('data/air-passengers.csv')\n",
    "m = Prophet(seasonality_mode='multiplicative')\n",
    "m.fit(df)\n",
    "future = m.make_future_dataframe(24, freq='MS')\n",
    "forecast = m.predict(future)\n",
    "fig = m.plot(forecast)"
   ]
  },
  {
   "cell_type": "code",
   "execution_count": null,
   "id": "430e14f6-9633-4a7d-944d-c080138c0f33",
   "metadata": {},
   "outputs": [],
   "source": []
  }
 ],
 "metadata": {
  "kernelspec": {
   "display_name": "Python 3 (ipykernel)",
   "language": "python",
   "name": "python3"
  },
  "language_info": {
   "codemirror_mode": {
    "name": "ipython",
    "version": 3
   },
   "file_extension": ".py",
   "mimetype": "text/x-python",
   "name": "python",
   "nbconvert_exporter": "python",
   "pygments_lexer": "ipython3",
   "version": "3.9.12"
  }
 },
 "nbformat": 4,
 "nbformat_minor": 5
}
